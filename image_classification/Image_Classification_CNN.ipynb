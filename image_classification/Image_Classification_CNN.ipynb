{
  "nbformat": 4,
  "nbformat_minor": 0,
  "metadata": {
    "colab": {
      "name": "Image_Classification_CNN.ipynb",
      "provenance": [],
      "collapsed_sections": [],
      "toc_visible": true
    },
    "kernelspec": {
      "name": "python3",
      "display_name": "Python 3"
    },
    "accelerator": "GPU"
  },
  "cells": [
    {
      "cell_type": "code",
      "metadata": {
        "colab": {
          "base_uri": "https://localhost:8080/"
        },
        "id": "t9Ye46x66AgH",
        "outputId": "1618e989-c5f5-46c3-9c3f-2f54c2df469d"
      },
      "source": [
        "pip install keras-tuner"
      ],
      "execution_count": null,
      "outputs": [
        {
          "output_type": "stream",
          "text": [
            "Collecting keras-tuner\n",
            "\u001b[?25l  Downloading https://files.pythonhosted.org/packages/20/ec/1ef246787174b1e2bb591c95f29d3c1310070cad877824f907faba3dade9/keras-tuner-1.0.2.tar.gz (62kB)\n",
            "\r\u001b[K     |█████▏                          | 10kB 13.4MB/s eta 0:00:01\r\u001b[K     |██████████▍                     | 20kB 16.5MB/s eta 0:00:01\r\u001b[K     |███████████████▋                | 30kB 10.0MB/s eta 0:00:01\r\u001b[K     |████████████████████▉           | 40kB 8.3MB/s eta 0:00:01\r\u001b[K     |██████████████████████████      | 51kB 4.2MB/s eta 0:00:01\r\u001b[K     |███████████████████████████████▎| 61kB 4.7MB/s eta 0:00:01\r\u001b[K     |████████████████████████████████| 71kB 3.5MB/s \n",
            "\u001b[?25hRequirement already satisfied: packaging in /usr/local/lib/python3.6/dist-packages (from keras-tuner) (20.9)\n",
            "Requirement already satisfied: future in /usr/local/lib/python3.6/dist-packages (from keras-tuner) (0.16.0)\n",
            "Requirement already satisfied: numpy in /usr/local/lib/python3.6/dist-packages (from keras-tuner) (1.19.5)\n",
            "Requirement already satisfied: tabulate in /usr/local/lib/python3.6/dist-packages (from keras-tuner) (0.8.7)\n",
            "Collecting terminaltables\n",
            "  Downloading https://files.pythonhosted.org/packages/9b/c4/4a21174f32f8a7e1104798c445dacdc1d4df86f2f26722767034e4de4bff/terminaltables-3.1.0.tar.gz\n",
            "Collecting colorama\n",
            "  Downloading https://files.pythonhosted.org/packages/44/98/5b86278fbbf250d239ae0ecb724f8572af1c91f4a11edf4d36a206189440/colorama-0.4.4-py2.py3-none-any.whl\n",
            "Requirement already satisfied: tqdm in /usr/local/lib/python3.6/dist-packages (from keras-tuner) (4.41.1)\n",
            "Requirement already satisfied: requests in /usr/local/lib/python3.6/dist-packages (from keras-tuner) (2.23.0)\n",
            "Requirement already satisfied: scipy in /usr/local/lib/python3.6/dist-packages (from keras-tuner) (1.4.1)\n",
            "Requirement already satisfied: scikit-learn in /usr/local/lib/python3.6/dist-packages (from keras-tuner) (0.22.2.post1)\n",
            "Requirement already satisfied: pyparsing>=2.0.2 in /usr/local/lib/python3.6/dist-packages (from packaging->keras-tuner) (2.4.7)\n",
            "Requirement already satisfied: certifi>=2017.4.17 in /usr/local/lib/python3.6/dist-packages (from requests->keras-tuner) (2020.12.5)\n",
            "Requirement already satisfied: urllib3!=1.25.0,!=1.25.1,<1.26,>=1.21.1 in /usr/local/lib/python3.6/dist-packages (from requests->keras-tuner) (1.24.3)\n",
            "Requirement already satisfied: chardet<4,>=3.0.2 in /usr/local/lib/python3.6/dist-packages (from requests->keras-tuner) (3.0.4)\n",
            "Requirement already satisfied: idna<3,>=2.5 in /usr/local/lib/python3.6/dist-packages (from requests->keras-tuner) (2.10)\n",
            "Requirement already satisfied: joblib>=0.11 in /usr/local/lib/python3.6/dist-packages (from scikit-learn->keras-tuner) (1.0.0)\n",
            "Building wheels for collected packages: keras-tuner, terminaltables\n",
            "  Building wheel for keras-tuner (setup.py) ... \u001b[?25l\u001b[?25hdone\n",
            "  Created wheel for keras-tuner: filename=keras_tuner-1.0.2-cp36-none-any.whl size=78939 sha256=c5b7e8f9ecb9963482efb0a377c8fab4364d1fe4d1f42a5d27726488ed185ea7\n",
            "  Stored in directory: /root/.cache/pip/wheels/bb/a1/8a/7c3de0efb3707a1701b36ebbfdbc4e67aedf6d4943a1f463d6\n",
            "  Building wheel for terminaltables (setup.py) ... \u001b[?25l\u001b[?25hdone\n",
            "  Created wheel for terminaltables: filename=terminaltables-3.1.0-cp36-none-any.whl size=15358 sha256=e97f11b0fd78ca5a95130b4012d204ade9b66a74fc63b1127344bb6551613b03\n",
            "  Stored in directory: /root/.cache/pip/wheels/30/6b/50/6c75775b681fb36cdfac7f19799888ef9d8813aff9e379663e\n",
            "Successfully built keras-tuner terminaltables\n",
            "Installing collected packages: terminaltables, colorama, keras-tuner\n",
            "Successfully installed colorama-0.4.4 keras-tuner-1.0.2 terminaltables-3.1.0\n"
          ],
          "name": "stdout"
        }
      ]
    },
    {
      "cell_type": "code",
      "metadata": {
        "id": "VbYOPhHkc2wH",
        "colab": {
          "base_uri": "https://localhost:8080/"
        },
        "outputId": "9b29dda7-9b06-4b97-ac90-9eded260d7cc"
      },
      "source": [
        "from google.colab import drive\r\n",
        "drive.mount('/content/gdrive/')"
      ],
      "execution_count": null,
      "outputs": [
        {
          "output_type": "stream",
          "text": [
            "Mounted at /content/gdrive/\n"
          ],
          "name": "stdout"
        }
      ]
    },
    {
      "cell_type": "code",
      "metadata": {
        "id": "uRLwKsLJvxxg"
      },
      "source": [
        "import zipfile\r\n",
        "import os\r\n",
        "import cv2\r\n",
        "import shutil\r\n",
        "\r\n",
        "import numpy as np\r\n",
        "import pandas as pd\r\n",
        "from datetime import datetime as dt\r\n",
        "from matplotlib import pyplot as plt\r\n",
        "import json\r\n",
        "import re\r\n",
        "import pickle\r\n",
        "\r\n",
        "from sklearn.model_selection import train_test_split\r\n",
        "\r\n",
        "from tensorflow.keras import layers\r\n",
        "from tensorflow.keras import Model\r\n",
        "from tensorflow.keras.preprocessing import image \r\n",
        "from tensorflow.keras import backend as K\r\n",
        "from tensorflow.keras import applications\r\n",
        "from tensorflow.keras import utils\r\n",
        "from tensorflow.keras import regularizers\r\n",
        "from tensorflow.keras import optimizers\r\n",
        "from tensorflow.keras import callbacks\r\n",
        "from tensorflow.keras.models import load_model\r\n",
        "\r\n",
        "import kerastuner"
      ],
      "execution_count": null,
      "outputs": []
    },
    {
      "cell_type": "code",
      "metadata": {
        "id": "FngQQ5dnvPmR"
      },
      "source": [
        "shutil.copyfile('/content/gdrive/MyDrive/DSIM/image_classification/archive.zip', 'archive.zip')\r\n",
        "\r\n",
        "image_data = zipfile.ZipFile('archive.zip')\r\n",
        "image_data.extractall()\r\n",
        "image_data.close()"
      ],
      "execution_count": null,
      "outputs": []
    },
    {
      "cell_type": "code",
      "metadata": {
        "id": "u4uTPMi_tA_7"
      },
      "source": [
        "backend.set_floatx('float16')"
      ],
      "execution_count": null,
      "outputs": []
    },
    {
      "cell_type": "markdown",
      "metadata": {
        "id": "fEDm6J2dGp2V"
      },
      "source": [
        "#Funzioni e classi"
      ]
    },
    {
      "cell_type": "code",
      "metadata": {
        "id": "pvkcbdH7mbdG"
      },
      "source": [
        "def build_model(pre_trained, cut, optimizer, regularization = False):\r\n",
        "  \r\n",
        "  # elenco dei nomi dei layers\r\n",
        "  layer_names = [layer.name for layer in pre_trained.layers]\r\n",
        "  layer_idx = layer_names.index(cut) + 1\r\n",
        "  \r\n",
        "  # ricostruzione architettura dal primo layer non congelato (layer_idx)\r\n",
        "  inputs = layers.Input(X_train.shape[1:])\r\n",
        "  x = inputs\r\n",
        "  for layer in pre_trained.layers[layer_idx:]:\r\n",
        "    x = layer (x)\r\n",
        "  \r\n",
        "  x = layers.Dropout(0.2)(x)\r\n",
        "  x = layers.Dense(3, activation='softmax')(x)\r\n",
        "\r\n",
        "  model = Model(inputs = inputs, outputs = x)\r\n",
        "  \r\n",
        "  # regolarizzazione di tutti i layer convoluzionali\r\n",
        "  if regularization:\r\n",
        "    for layer in model.layers:\r\n",
        "      if isinstance(layer, layers.Conv2D) | isinstance(layer, layers.DepthwiseConv2D):\r\n",
        "        model.get_layer(layer.name).kernel_regularizer = regularizers.l2(0.05) \r\n",
        "  \r\n",
        "  model.compile(\r\n",
        "      loss = 'categorical_crossentropy',\r\n",
        "      optimizer = optimizer,\r\n",
        "      metrics = [\"accuracy\"]\r\n",
        "      )\r\n",
        "  \r\n",
        "  return model"
      ],
      "execution_count": null,
      "outputs": []
    },
    {
      "cell_type": "code",
      "metadata": {
        "id": "SfNL9U5S84PC"
      },
      "source": [
        "class network(kerastuner.HyperModel):\n",
        "\n",
        "  def __init__(self, input_shape, pre_trained, optimizers_config):\n",
        "    self.input_shape = input_shape\n",
        "    self.optimizers_config = optimizers_config\n",
        "    self.pre_trained = pre_trained\n",
        "\n",
        "  def build(self, hp):\n",
        "    \n",
        "    K.clear_session()\n",
        "\n",
        "    # elenco dei nomi dei layers\n",
        "    layer_names = [layer.name for layer in self.pre_trained.layers]\n",
        "\n",
        "    # indice primo layer non congelato\n",
        "    layer_idx = layer_names.index(cut) + 1\n",
        "\n",
        "    # input layer\n",
        "    inputs = layers.Input(X_train.shape[1:])\n",
        "    x = inputs\n",
        "\n",
        "    # aggiungo uno alla volta tutti i layer\n",
        "    for layer in self.pre_trained.layers[layer_idx:]:\n",
        "      x = layer (x)\n",
        "\n",
        "    # regularization con tuning su dropout rate\n",
        "    x = layers.Dropout(\n",
        "        hp.Float('dropout_rate',\n",
        "                 0.1, 0.8, step = 0.1\n",
        "                 )\n",
        "        ) (x)\n",
        "    \n",
        "    # output layer e creazione modello\n",
        "    x = layers.Dense(3, activation='softmax')(x)\n",
        "    model = Model(inputs = inputs, outputs = x)\n",
        "\n",
        "    '''\n",
        "    # regolarizzazione l2 ?\n",
        "    if regularization:\n",
        "      for layer in model.layers:\n",
        "        if isinstance(layer, layers.Conv2D) | isinstance(layer, layers.DepthwiseConv2D):\n",
        "          model.get_layer(layer.name).kernel_regularizer = regularizers.l2(0.05) \n",
        "    '''\n",
        "\n",
        "    # selezione dell'optimizer\n",
        "    opt = hp.Choice('optimizer', values = ['adam', 'adamax', 'nadam'])\n",
        "\n",
        "    # compilo il modello con tuning su epsilon e learning rate\n",
        "    model.compile(\n",
        "        loss = 'categorical_crossentropy',\n",
        "        optimizer = self.optimizers_config[opt](\n",
        "            learning_rate = hp.Float('learning_rate', 1.5e-3, 0.5e-3, sampling='log'),\n",
        "            epsilon = hp.Float('epsilon', 1.5e-7, 0.5e-7, sampling = 'log')),\n",
        "        metrics = [\"accuracy\"]\n",
        "        )\n",
        "    \n",
        "    return model"
      ],
      "execution_count": null,
      "outputs": []
    },
    {
      "cell_type": "code",
      "metadata": {
        "id": "4Dj8sw7N88En"
      },
      "source": [
        "# sub-class algoritmo di tuning, mi permette di fare tuning anche sulla\n",
        "# batch size che non rientra fra i parametri del modello sotto il metodo build\n",
        "\n",
        "\n",
        "class keras_tuner(kerastuner.tuners.RandomSearch):\n",
        "  \n",
        "  # sovrascrivo il metodo run_trial che aggiunge un argomento, la batch size,\n",
        "  # e poi fa una chiamata al metodo run trial della classe padre\n",
        "\n",
        "  def run_trial(self, trial, *args, **kwargs):\n",
        "    kwargs['batch_size'] = trial.hyperparameters.Choice('batch_size', values = [32, 64, 128, 256])\n",
        "    super(keras_tuner, self).run_trial(trial, *args, **kwargs)\n",
        "  \n",
        "\n",
        "  # al termine di ogni epoca, il tuner chiama il metodo on_epoch_end,\n",
        "  # lo sovrascriviamo in modo tale da loggare le performance ad ogni epoca\n",
        "  # e poi si fa anche qui una chiamata al metodo della classe padre\n",
        "  # il file viene creato sotto il percorso 'tuner/nome_architettura/cut/\n",
        "\n",
        "  def on_epoch_end(self, trial, model, epoch, logs=None):\n",
        "\n",
        "    with open(self.directory + '/' + self.project_name + '/' + trial.trial_id + '.txt', 'a') as f:\n",
        "      \n",
        "      # campi: 'epoch', 'timestamp', 'train_loss', 'val_loss', 'train_accuracy', 'val_accuracy'\n",
        "      f.write(','.join(\n",
        "          [str(epoch), str(dt.now()),\n",
        "           str(logs['loss']), str(logs['val_loss']),\n",
        "           str(logs['accuracy']), str(logs['val_accuracy']) + '\\n'])\n",
        "      )\n",
        "    super(keras_tuner, self).on_epoch_end(trial, model, epoch, logs)"
      ],
      "execution_count": null,
      "outputs": []
    },
    {
      "cell_type": "code",
      "metadata": {
        "id": "8S49G61wZ7tB"
      },
      "source": [
        "def build_final_model(pre_trained, cut, optimizer):\n",
        "  \n",
        "  # elenco dei nomi dei layers\n",
        "  layer_names = [layer.name for layer in pre_trained.layers]\n",
        "  layer_idx = layer_names.index(cut) + 1\n",
        "  \n",
        "  # ricostruzione architettura dal primo layer non congelato (layer_idx)\n",
        "  inputs = layers.Input(X_train.shape[1:])\n",
        "  x = inputs\n",
        "  for layer in pre_trained.layers[layer_idx:]:\n",
        "    x = layer (x)\n",
        "  \n",
        "  x = layers.Dropout(0.2)(x)\n",
        "  x = layers.Dense(3, activation='softmax')(x)\n",
        "\n",
        "  model = Model(inputs = inputs, outputs = x)\n",
        "  \n",
        "  model.compile(\n",
        "      loss = 'categorical_crossentropy',\n",
        "      optimizer = optimizer,\n",
        "      metrics = [\"accuracy\"]\n",
        "      )\n",
        "  \n",
        "  return model"
      ],
      "execution_count": null,
      "outputs": []
    },
    {
      "cell_type": "code",
      "metadata": {
        "id": "XeBmOqp3JgpF"
      },
      "source": [
        "def display_img(img_list, nrow = 1, ncol = 0, size = (10,10), text = []):\n",
        "\n",
        "  if not ncol:\n",
        "    ncol = len(img_list)\n",
        "  \n",
        "  fig = plt.figure(figsize=(size[0], size[1]))\n",
        "  k = 0\n",
        "  for i in range(nrow):\n",
        "    for j in range(ncol):\n",
        "      current_plot = fig.add_subplot(nrow, ncol, k+1)\n",
        "      if k < len(text):\n",
        "        current_plot.title.set_text(text[k])\n",
        "      plt.imshow(img_list[k])\n",
        "      k += 1"
      ],
      "execution_count": null,
      "outputs": []
    },
    {
      "cell_type": "code",
      "metadata": {
        "id": "JsjEQMDWm9Br"
      },
      "source": [
        "os.mkdir('image_classification')"
      ],
      "execution_count": null,
      "outputs": []
    },
    {
      "cell_type": "code",
      "metadata": {
        "colab": {
          "base_uri": "https://localhost:8080/",
          "height": 35
        },
        "id": "MX09UL4UnPtz",
        "outputId": "9ca851c7-3e18-4458-a3bb-ce31a8c72a0e"
      },
      "source": [
        "shutil.copytree('/content/sharp/', 'image_classification/sharp')\n",
        "shutil.copytree('/content/motion_blurred', 'image_classification/motion_blurred')\n",
        "shutil.copytree('/content/defocused_blurred', 'image_classification/defocused_blurred')"
      ],
      "execution_count": null,
      "outputs": [
        {
          "output_type": "execute_result",
          "data": {
            "application/vnd.google.colaboratory.intrinsic+json": {
              "type": "string"
            },
            "text/plain": [
              "'image_classification/defocused_blurred'"
            ]
          },
          "metadata": {
            "tags": []
          },
          "execution_count": 25
        }
      ]
    },
    {
      "cell_type": "markdown",
      "metadata": {
        "id": "dvbNpF1xGle7"
      },
      "source": [
        "#Generator"
      ]
    },
    {
      "cell_type": "markdown",
      "metadata": {
        "id": "tGcdMzmAGhTd"
      },
      "source": [
        "Preprocessing per il generator"
      ]
    },
    {
      "cell_type": "code",
      "metadata": {
        "id": "2OKuGh_omUTH"
      },
      "source": [
        "processing = image.ImageDataGenerator(\r\n",
        "      preprocessing_function = applications.mobilenet.preprocess_input,\r\n",
        "      validation_split = 0.2\r\n",
        "      )"
      ],
      "execution_count": null,
      "outputs": []
    },
    {
      "cell_type": "code",
      "metadata": {
        "colab": {
          "base_uri": "https://localhost:8080/"
        },
        "id": "gcUhgfEMmYFe",
        "outputId": "c07cb12e-675a-4763-a15a-6f058d99a95f"
      },
      "source": [
        "train_generator = processing.flow_from_directory(\r\n",
        "      directory = 'image_classification',\r\n",
        "      target_size = (224, 224), \r\n",
        "      color_mode = 'rgb', \r\n",
        "      batch_size = 256,\r\n",
        "      class_mode = 'categorical',\r\n",
        "      shuffle = False,\r\n",
        "      subset = 'training',\r\n",
        "      seed = 3\r\n",
        "      )\r\n",
        "valid_generator = processing.flow_from_directory(\r\n",
        "      directory = 'image_classification',\r\n",
        "      target_size = (224, 224), \r\n",
        "      color_mode = 'rgb', \r\n",
        "      batch_size = 256,\r\n",
        "      class_mode = 'categorical',\r\n",
        "      shuffle = False,\r\n",
        "      subset = 'validation',\r\n",
        "      seed = 3\r\n",
        "      )"
      ],
      "execution_count": null,
      "outputs": [
        {
          "output_type": "stream",
          "text": [
            "Found 840 images belonging to 3 classes.\n",
            "Found 210 images belonging to 3 classes.\n"
          ],
          "name": "stdout"
        }
      ]
    },
    {
      "cell_type": "markdown",
      "metadata": {
        "id": "Xkl9Dtt-G0BU"
      },
      "source": [
        "#Fine tuning"
      ]
    },
    {
      "cell_type": "markdown",
      "metadata": {
        "id": "341-2fRwGx4L"
      },
      "source": [
        "Caricamento architettura preaddestrata e freezing"
      ]
    },
    {
      "cell_type": "code",
      "metadata": {
        "id": "bni83H6CxUwg"
      },
      "source": [
        "mobilenet = applications.MobileNet((224,224,3),include_top=False, pooling='avg')"
      ],
      "execution_count": null,
      "outputs": []
    },
    {
      "cell_type": "code",
      "metadata": {
        "id": "L8T-QSGo7KF-"
      },
      "source": [
        "cut = 'conv_dw_6_relu'\n",
        "mobilenet_pre_trained = Model(mobilenet.input, outputs = mobilenet.get_layer(cut).output)"
      ],
      "execution_count": null,
      "outputs": []
    },
    {
      "cell_type": "markdown",
      "metadata": {
        "id": "aXpTXztHHHxo"
      },
      "source": [
        "Dall'utilimo layer congelato estraggo le features in modo tale da ricostruire l'architettura \"non congelata\" evitando di ripetere gli stessi calcoli ad ogni epoca"
      ]
    },
    {
      "cell_type": "code",
      "metadata": {
        "id": "bQUYFb5Qxz_9"
      },
      "source": [
        "# mescolo le obs di training\n",
        "train_obs = len(train_generator.filenames)\n",
        "shuffle_train = np.random.RandomState(seed = 42).permutation(train_obs)\n",
        "\n",
        "X_train = mobilenet_pre_trained.predict(train_generator)[shuffle_train]\n",
        "X_val = mobilenet_pre_trained.predict(valid_generator)"
      ],
      "execution_count": null,
      "outputs": []
    },
    {
      "cell_type": "code",
      "metadata": {
        "id": "yRmK7OWg0hH4"
      },
      "source": [
        "# output labels\r\n",
        "y_train = utils.to_categorical(np.reshape(train_generator.classes[shuffle_train], -1), 3)\r\n",
        "y_valid = utils.to_categorical(np.reshape(valid_generator.classes, -1), 3)"
      ],
      "execution_count": null,
      "outputs": []
    },
    {
      "cell_type": "markdown",
      "metadata": {
        "id": "iqSpoGS5HYKU"
      },
      "source": [
        "Costruzione del modello e addestramento"
      ]
    },
    {
      "cell_type": "code",
      "metadata": {
        "id": "N-tOuWNO7TtH",
        "colab": {
          "base_uri": "https://localhost:8080/"
        },
        "outputId": "8509c702-6e20-4c23-ad1a-4c97f1531497"
      },
      "source": [
        "base_model = build_model(\n",
        "    mobilenet,\n",
        "    cut = cut,\n",
        "    optimizer = 'adam',\n",
        "    regularization = True\n",
        "    )\n",
        "base_model.summary()"
      ],
      "execution_count": null,
      "outputs": [
        {
          "output_type": "stream",
          "text": [
            "Model: \"model_1\"\n",
            "_________________________________________________________________\n",
            "Layer (type)                 Output Shape              Param #   \n",
            "=================================================================\n",
            "input_2 (InputLayer)         [(None, 14, 14, 256)]     0         \n",
            "_________________________________________________________________\n",
            "conv_pw_6 (Conv2D)           (None, 14, 14, 512)       131072    \n",
            "_________________________________________________________________\n",
            "conv_pw_6_bn (BatchNormaliza (None, 14, 14, 512)       2048      \n",
            "_________________________________________________________________\n",
            "conv_pw_6_relu (ReLU)        (None, 14, 14, 512)       0         \n",
            "_________________________________________________________________\n",
            "conv_dw_7 (DepthwiseConv2D)  (None, 14, 14, 512)       4608      \n",
            "_________________________________________________________________\n",
            "conv_dw_7_bn (BatchNormaliza (None, 14, 14, 512)       2048      \n",
            "_________________________________________________________________\n",
            "conv_dw_7_relu (ReLU)        (None, 14, 14, 512)       0         \n",
            "_________________________________________________________________\n",
            "conv_pw_7 (Conv2D)           (None, 14, 14, 512)       262144    \n",
            "_________________________________________________________________\n",
            "conv_pw_7_bn (BatchNormaliza (None, 14, 14, 512)       2048      \n",
            "_________________________________________________________________\n",
            "conv_pw_7_relu (ReLU)        (None, 14, 14, 512)       0         \n",
            "_________________________________________________________________\n",
            "conv_dw_8 (DepthwiseConv2D)  (None, 14, 14, 512)       4608      \n",
            "_________________________________________________________________\n",
            "conv_dw_8_bn (BatchNormaliza (None, 14, 14, 512)       2048      \n",
            "_________________________________________________________________\n",
            "conv_dw_8_relu (ReLU)        (None, 14, 14, 512)       0         \n",
            "_________________________________________________________________\n",
            "conv_pw_8 (Conv2D)           (None, 14, 14, 512)       262144    \n",
            "_________________________________________________________________\n",
            "conv_pw_8_bn (BatchNormaliza (None, 14, 14, 512)       2048      \n",
            "_________________________________________________________________\n",
            "conv_pw_8_relu (ReLU)        (None, 14, 14, 512)       0         \n",
            "_________________________________________________________________\n",
            "conv_dw_9 (DepthwiseConv2D)  (None, 14, 14, 512)       4608      \n",
            "_________________________________________________________________\n",
            "conv_dw_9_bn (BatchNormaliza (None, 14, 14, 512)       2048      \n",
            "_________________________________________________________________\n",
            "conv_dw_9_relu (ReLU)        (None, 14, 14, 512)       0         \n",
            "_________________________________________________________________\n",
            "conv_pw_9 (Conv2D)           (None, 14, 14, 512)       262144    \n",
            "_________________________________________________________________\n",
            "conv_pw_9_bn (BatchNormaliza (None, 14, 14, 512)       2048      \n",
            "_________________________________________________________________\n",
            "conv_pw_9_relu (ReLU)        (None, 14, 14, 512)       0         \n",
            "_________________________________________________________________\n",
            "conv_dw_10 (DepthwiseConv2D) (None, 14, 14, 512)       4608      \n",
            "_________________________________________________________________\n",
            "conv_dw_10_bn (BatchNormaliz (None, 14, 14, 512)       2048      \n",
            "_________________________________________________________________\n",
            "conv_dw_10_relu (ReLU)       (None, 14, 14, 512)       0         \n",
            "_________________________________________________________________\n",
            "conv_pw_10 (Conv2D)          (None, 14, 14, 512)       262144    \n",
            "_________________________________________________________________\n",
            "conv_pw_10_bn (BatchNormaliz (None, 14, 14, 512)       2048      \n",
            "_________________________________________________________________\n",
            "conv_pw_10_relu (ReLU)       (None, 14, 14, 512)       0         \n",
            "_________________________________________________________________\n",
            "conv_dw_11 (DepthwiseConv2D) (None, 14, 14, 512)       4608      \n",
            "_________________________________________________________________\n",
            "conv_dw_11_bn (BatchNormaliz (None, 14, 14, 512)       2048      \n",
            "_________________________________________________________________\n",
            "conv_dw_11_relu (ReLU)       (None, 14, 14, 512)       0         \n",
            "_________________________________________________________________\n",
            "conv_pw_11 (Conv2D)          (None, 14, 14, 512)       262144    \n",
            "_________________________________________________________________\n",
            "conv_pw_11_bn (BatchNormaliz (None, 14, 14, 512)       2048      \n",
            "_________________________________________________________________\n",
            "conv_pw_11_relu (ReLU)       (None, 14, 14, 512)       0         \n",
            "_________________________________________________________________\n",
            "conv_pad_12 (ZeroPadding2D)  (None, 15, 15, 512)       0         \n",
            "_________________________________________________________________\n",
            "conv_dw_12 (DepthwiseConv2D) (None, 7, 7, 512)         4608      \n",
            "_________________________________________________________________\n",
            "conv_dw_12_bn (BatchNormaliz (None, 7, 7, 512)         2048      \n",
            "_________________________________________________________________\n",
            "conv_dw_12_relu (ReLU)       (None, 7, 7, 512)         0         \n",
            "_________________________________________________________________\n",
            "conv_pw_12 (Conv2D)          (None, 7, 7, 1024)        524288    \n",
            "_________________________________________________________________\n",
            "conv_pw_12_bn (BatchNormaliz (None, 7, 7, 1024)        4096      \n",
            "_________________________________________________________________\n",
            "conv_pw_12_relu (ReLU)       (None, 7, 7, 1024)        0         \n",
            "_________________________________________________________________\n",
            "conv_dw_13 (DepthwiseConv2D) (None, 7, 7, 1024)        9216      \n",
            "_________________________________________________________________\n",
            "conv_dw_13_bn (BatchNormaliz (None, 7, 7, 1024)        4096      \n",
            "_________________________________________________________________\n",
            "conv_dw_13_relu (ReLU)       (None, 7, 7, 1024)        0         \n",
            "_________________________________________________________________\n",
            "conv_pw_13 (Conv2D)          (None, 7, 7, 1024)        1048576   \n",
            "_________________________________________________________________\n",
            "conv_pw_13_bn (BatchNormaliz (None, 7, 7, 1024)        4096      \n",
            "_________________________________________________________________\n",
            "conv_pw_13_relu (ReLU)       (None, 7, 7, 1024)        0         \n",
            "_________________________________________________________________\n",
            "global_average_pooling2d (Gl (None, 1024)              0         \n",
            "_________________________________________________________________\n",
            "dropout (Dropout)            (None, 1024)              0         \n",
            "_________________________________________________________________\n",
            "dense (Dense)                (None, 3)                 3075      \n",
            "=================================================================\n",
            "Total params: 3,091,459\n",
            "Trainable params: 3,073,027\n",
            "Non-trainable params: 18,432\n",
            "_________________________________________________________________\n"
          ],
          "name": "stdout"
        }
      ]
    },
    {
      "cell_type": "code",
      "metadata": {
        "colab": {
          "base_uri": "https://localhost:8080/"
        },
        "id": "zpTvCzUJ7T3z",
        "outputId": "4a71c93f-b7c2-4f37-f710-2ef51918668a"
      },
      "source": [
        "base_model.fit(\n",
        "    X_train, y_train,\n",
        "    validation_data=(X_val, y_valid),\n",
        "    epochs = 20,\n",
        "    batch_size = 32\n",
        "    )"
      ],
      "execution_count": null,
      "outputs": [
        {
          "output_type": "stream",
          "text": [
            "Epoch 1/20\n",
            "27/27 [==============================] - 6s 139ms/step - loss: 1.0274 - accuracy: 0.6803 - val_loss: 3.9646 - val_accuracy: 0.5714\n",
            "Epoch 2/20\n",
            "27/27 [==============================] - 3s 94ms/step - loss: 0.4803 - accuracy: 0.8899 - val_loss: 2.8148 - val_accuracy: 0.8095\n",
            "Epoch 3/20\n",
            "27/27 [==============================] - 3s 95ms/step - loss: 0.1029 - accuracy: 0.9647 - val_loss: 5.1525 - val_accuracy: 0.6905\n",
            "Epoch 4/20\n",
            "27/27 [==============================] - 3s 96ms/step - loss: 0.2428 - accuracy: 0.9377 - val_loss: 1.6791 - val_accuracy: 0.8857\n",
            "Epoch 5/20\n",
            "27/27 [==============================] - 3s 96ms/step - loss: 0.0827 - accuracy: 0.9701 - val_loss: 1.3685 - val_accuracy: 0.8857\n",
            "Epoch 6/20\n",
            "27/27 [==============================] - 3s 95ms/step - loss: 0.0654 - accuracy: 0.9778 - val_loss: 1.6092 - val_accuracy: 0.8810\n",
            "Epoch 7/20\n",
            "27/27 [==============================] - 3s 95ms/step - loss: 0.0558 - accuracy: 0.9823 - val_loss: 1.2294 - val_accuracy: 0.9190\n",
            "Epoch 8/20\n",
            "27/27 [==============================] - 3s 96ms/step - loss: 0.0396 - accuracy: 0.9847 - val_loss: 0.9136 - val_accuracy: 0.9238\n",
            "Epoch 9/20\n",
            "27/27 [==============================] - 3s 96ms/step - loss: 0.0497 - accuracy: 0.9841 - val_loss: 0.6893 - val_accuracy: 0.9429\n",
            "Epoch 10/20\n",
            "27/27 [==============================] - 3s 96ms/step - loss: 0.0244 - accuracy: 0.9911 - val_loss: 1.3323 - val_accuracy: 0.9000\n",
            "Epoch 11/20\n",
            "27/27 [==============================] - 3s 95ms/step - loss: 0.0191 - accuracy: 0.9909 - val_loss: 0.9175 - val_accuracy: 0.9095\n",
            "Epoch 12/20\n",
            "27/27 [==============================] - 3s 95ms/step - loss: 0.0416 - accuracy: 0.9899 - val_loss: 0.5655 - val_accuracy: 0.9143\n",
            "Epoch 13/20\n",
            "27/27 [==============================] - 3s 96ms/step - loss: 0.0313 - accuracy: 0.9844 - val_loss: 0.6789 - val_accuracy: 0.9048\n",
            "Epoch 14/20\n",
            "27/27 [==============================] - 3s 95ms/step - loss: 0.0472 - accuracy: 0.9861 - val_loss: 0.7463 - val_accuracy: 0.8952\n",
            "Epoch 15/20\n",
            "27/27 [==============================] - 3s 96ms/step - loss: 0.0718 - accuracy: 0.9811 - val_loss: 0.6751 - val_accuracy: 0.8810\n",
            "Epoch 16/20\n",
            "27/27 [==============================] - 3s 96ms/step - loss: 0.0458 - accuracy: 0.9839 - val_loss: 1.0081 - val_accuracy: 0.8333\n",
            "Epoch 17/20\n",
            "27/27 [==============================] - 3s 95ms/step - loss: 0.0142 - accuracy: 0.9958 - val_loss: 0.4691 - val_accuracy: 0.9238\n",
            "Epoch 18/20\n",
            "27/27 [==============================] - 3s 95ms/step - loss: 0.0088 - accuracy: 0.9983 - val_loss: 0.4026 - val_accuracy: 0.9238\n",
            "Epoch 19/20\n",
            "27/27 [==============================] - 3s 95ms/step - loss: 0.0043 - accuracy: 0.9995 - val_loss: 0.4423 - val_accuracy: 0.9190\n",
            "Epoch 20/20\n",
            "27/27 [==============================] - 3s 95ms/step - loss: 0.0040 - accuracy: 0.9983 - val_loss: 0.4202 - val_accuracy: 0.9238\n"
          ],
          "name": "stdout"
        },
        {
          "output_type": "execute_result",
          "data": {
            "text/plain": [
              "<tensorflow.python.keras.callbacks.History at 0x7ff5ab760710>"
            ]
          },
          "metadata": {
            "tags": []
          },
          "execution_count": 14
        }
      ]
    },
    {
      "cell_type": "markdown",
      "metadata": {
        "id": "kE1igRVnIFbB"
      },
      "source": [
        "Fine tuning con AdaMax"
      ]
    },
    {
      "cell_type": "code",
      "metadata": {
        "id": "u__cNUs57T6n",
        "colab": {
          "base_uri": "https://localhost:8080/"
        },
        "outputId": "7d3e3e67-5b19-4811-89f1-3885dbe8c316"
      },
      "source": [
        "base_model_adamax = build_model(\n",
        "    mobilenet,\n",
        "    cut = cut,\n",
        "    optimizer = 'adamax',\n",
        "    regularization = True\n",
        "    )\n",
        "\n",
        "base_model_adamax.fit(\n",
        "    X_train, y_train,\n",
        "    validation_data = (X_val, y_valid),\n",
        "    epochs = 20,\n",
        "    batch_size = 32\n",
        "    )"
      ],
      "execution_count": null,
      "outputs": [
        {
          "output_type": "stream",
          "text": [
            "Epoch 1/20\n",
            "27/27 [==============================] - 5s 110ms/step - loss: 0.1915 - accuracy: 0.9127 - val_loss: 0.8599 - val_accuracy: 0.8571\n",
            "Epoch 2/20\n",
            "27/27 [==============================] - 3s 95ms/step - loss: 0.0094 - accuracy: 0.9943 - val_loss: 0.7331 - val_accuracy: 0.8714\n",
            "Epoch 3/20\n",
            "27/27 [==============================] - 3s 95ms/step - loss: 0.0101 - accuracy: 0.9960 - val_loss: 0.4566 - val_accuracy: 0.9000\n",
            "Epoch 4/20\n",
            "27/27 [==============================] - 3s 96ms/step - loss: 0.0028 - accuracy: 0.9989 - val_loss: 0.4335 - val_accuracy: 0.9095\n",
            "Epoch 5/20\n",
            "27/27 [==============================] - 3s 95ms/step - loss: 0.0024 - accuracy: 1.0000 - val_loss: 0.4378 - val_accuracy: 0.9143\n",
            "Epoch 6/20\n",
            "27/27 [==============================] - 3s 95ms/step - loss: 9.7715e-04 - accuracy: 1.0000 - val_loss: 0.4328 - val_accuracy: 0.9190\n",
            "Epoch 7/20\n",
            "27/27 [==============================] - 3s 96ms/step - loss: 0.0015 - accuracy: 1.0000 - val_loss: 0.4325 - val_accuracy: 0.9143\n",
            "Epoch 8/20\n",
            "27/27 [==============================] - 3s 95ms/step - loss: 6.1392e-04 - accuracy: 1.0000 - val_loss: 0.3818 - val_accuracy: 0.9143\n",
            "Epoch 9/20\n",
            "27/27 [==============================] - 3s 96ms/step - loss: 6.7932e-04 - accuracy: 0.9998 - val_loss: 0.4040 - val_accuracy: 0.9095\n",
            "Epoch 10/20\n",
            "27/27 [==============================] - 3s 96ms/step - loss: 8.3289e-04 - accuracy: 0.9999 - val_loss: 0.4306 - val_accuracy: 0.9095\n",
            "Epoch 11/20\n",
            "27/27 [==============================] - 3s 95ms/step - loss: 0.0055 - accuracy: 0.9992 - val_loss: 0.4043 - val_accuracy: 0.9143\n",
            "Epoch 12/20\n",
            "27/27 [==============================] - 3s 96ms/step - loss: 0.0113 - accuracy: 0.9948 - val_loss: 0.4522 - val_accuracy: 0.9000\n",
            "Epoch 13/20\n",
            "27/27 [==============================] - 3s 96ms/step - loss: 0.0034 - accuracy: 1.0000 - val_loss: 0.4541 - val_accuracy: 0.8952\n",
            "Epoch 14/20\n",
            "27/27 [==============================] - 3s 95ms/step - loss: 7.8871e-04 - accuracy: 1.0000 - val_loss: 0.4090 - val_accuracy: 0.8952\n",
            "Epoch 15/20\n",
            "27/27 [==============================] - 3s 96ms/step - loss: 0.0014 - accuracy: 1.0000 - val_loss: 0.4023 - val_accuracy: 0.9000\n",
            "Epoch 16/20\n",
            "27/27 [==============================] - 3s 96ms/step - loss: 0.0018 - accuracy: 0.9988 - val_loss: 0.4078 - val_accuracy: 0.9095\n",
            "Epoch 17/20\n",
            "27/27 [==============================] - 3s 96ms/step - loss: 0.0031 - accuracy: 0.9986 - val_loss: 0.4117 - val_accuracy: 0.9143\n",
            "Epoch 18/20\n",
            "27/27 [==============================] - 3s 95ms/step - loss: 0.0013 - accuracy: 1.0000 - val_loss: 0.4223 - val_accuracy: 0.9143\n",
            "Epoch 19/20\n",
            "27/27 [==============================] - 3s 96ms/step - loss: 0.0020 - accuracy: 0.9993 - val_loss: 0.4293 - val_accuracy: 0.9190\n",
            "Epoch 20/20\n",
            "27/27 [==============================] - 3s 96ms/step - loss: 0.0016 - accuracy: 0.9994 - val_loss: 0.4327 - val_accuracy: 0.9238\n"
          ],
          "name": "stdout"
        },
        {
          "output_type": "execute_result",
          "data": {
            "text/plain": [
              "<tensorflow.python.keras.callbacks.History at 0x7ff5529b9588>"
            ]
          },
          "metadata": {
            "tags": []
          },
          "execution_count": 16
        }
      ]
    },
    {
      "cell_type": "markdown",
      "metadata": {
        "id": "Cbkkc_JGHhtr"
      },
      "source": [
        "History dell'addestramento"
      ]
    },
    {
      "cell_type": "code",
      "metadata": {
        "colab": {
          "base_uri": "https://localhost:8080/",
          "height": 700
        },
        "id": "zisol9MAt-f3",
        "outputId": "3e5fa9cd-f4f3-45ab-ed9c-6d855eed7794"
      },
      "source": [
        "mobilenet_history = pd.DataFrame(base_model_adamax.history.history)\n",
        "mobilenet_history['epoch'] = [i+1 for i in range(mobilenet_history.shape[0])]\n",
        "mobilenet_history.set_index(['epoch'], inplace = True)\n",
        "mobilenet_history"
      ],
      "execution_count": null,
      "outputs": [
        {
          "output_type": "execute_result",
          "data": {
            "text/html": [
              "<div>\n",
              "<style scoped>\n",
              "    .dataframe tbody tr th:only-of-type {\n",
              "        vertical-align: middle;\n",
              "    }\n",
              "\n",
              "    .dataframe tbody tr th {\n",
              "        vertical-align: top;\n",
              "    }\n",
              "\n",
              "    .dataframe thead th {\n",
              "        text-align: right;\n",
              "    }\n",
              "</style>\n",
              "<table border=\"1\" class=\"dataframe\">\n",
              "  <thead>\n",
              "    <tr style=\"text-align: right;\">\n",
              "      <th></th>\n",
              "      <th>loss</th>\n",
              "      <th>accuracy</th>\n",
              "      <th>val_loss</th>\n",
              "      <th>val_accuracy</th>\n",
              "    </tr>\n",
              "    <tr>\n",
              "      <th>epoch</th>\n",
              "      <th></th>\n",
              "      <th></th>\n",
              "      <th></th>\n",
              "      <th></th>\n",
              "    </tr>\n",
              "  </thead>\n",
              "  <tbody>\n",
              "    <tr>\n",
              "      <th>1</th>\n",
              "      <td>0.063414</td>\n",
              "      <td>0.972619</td>\n",
              "      <td>0.859939</td>\n",
              "      <td>0.857143</td>\n",
              "    </tr>\n",
              "    <tr>\n",
              "      <th>2</th>\n",
              "      <td>0.014330</td>\n",
              "      <td>0.991667</td>\n",
              "      <td>0.733125</td>\n",
              "      <td>0.871429</td>\n",
              "    </tr>\n",
              "    <tr>\n",
              "      <th>3</th>\n",
              "      <td>0.008315</td>\n",
              "      <td>0.996429</td>\n",
              "      <td>0.456648</td>\n",
              "      <td>0.900000</td>\n",
              "    </tr>\n",
              "    <tr>\n",
              "      <th>4</th>\n",
              "      <td>0.006117</td>\n",
              "      <td>0.996429</td>\n",
              "      <td>0.433537</td>\n",
              "      <td>0.909524</td>\n",
              "    </tr>\n",
              "    <tr>\n",
              "      <th>5</th>\n",
              "      <td>0.002813</td>\n",
              "      <td>1.000000</td>\n",
              "      <td>0.437800</td>\n",
              "      <td>0.914286</td>\n",
              "    </tr>\n",
              "    <tr>\n",
              "      <th>6</th>\n",
              "      <td>0.001178</td>\n",
              "      <td>1.000000</td>\n",
              "      <td>0.432801</td>\n",
              "      <td>0.919048</td>\n",
              "    </tr>\n",
              "    <tr>\n",
              "      <th>7</th>\n",
              "      <td>0.001654</td>\n",
              "      <td>1.000000</td>\n",
              "      <td>0.432498</td>\n",
              "      <td>0.914286</td>\n",
              "    </tr>\n",
              "    <tr>\n",
              "      <th>8</th>\n",
              "      <td>0.000624</td>\n",
              "      <td>1.000000</td>\n",
              "      <td>0.381796</td>\n",
              "      <td>0.914286</td>\n",
              "    </tr>\n",
              "    <tr>\n",
              "      <th>9</th>\n",
              "      <td>0.001717</td>\n",
              "      <td>0.998810</td>\n",
              "      <td>0.404040</td>\n",
              "      <td>0.909524</td>\n",
              "    </tr>\n",
              "    <tr>\n",
              "      <th>10</th>\n",
              "      <td>0.003911</td>\n",
              "      <td>0.998810</td>\n",
              "      <td>0.430613</td>\n",
              "      <td>0.909524</td>\n",
              "    </tr>\n",
              "    <tr>\n",
              "      <th>11</th>\n",
              "      <td>0.006748</td>\n",
              "      <td>0.998810</td>\n",
              "      <td>0.404341</td>\n",
              "      <td>0.914286</td>\n",
              "    </tr>\n",
              "    <tr>\n",
              "      <th>12</th>\n",
              "      <td>0.006861</td>\n",
              "      <td>0.997619</td>\n",
              "      <td>0.452187</td>\n",
              "      <td>0.900000</td>\n",
              "    </tr>\n",
              "    <tr>\n",
              "      <th>13</th>\n",
              "      <td>0.002653</td>\n",
              "      <td>1.000000</td>\n",
              "      <td>0.454079</td>\n",
              "      <td>0.895238</td>\n",
              "    </tr>\n",
              "    <tr>\n",
              "      <th>14</th>\n",
              "      <td>0.000817</td>\n",
              "      <td>1.000000</td>\n",
              "      <td>0.409026</td>\n",
              "      <td>0.895238</td>\n",
              "    </tr>\n",
              "    <tr>\n",
              "      <th>15</th>\n",
              "      <td>0.001688</td>\n",
              "      <td>1.000000</td>\n",
              "      <td>0.402299</td>\n",
              "      <td>0.900000</td>\n",
              "    </tr>\n",
              "    <tr>\n",
              "      <th>16</th>\n",
              "      <td>0.004768</td>\n",
              "      <td>0.997619</td>\n",
              "      <td>0.407841</td>\n",
              "      <td>0.909524</td>\n",
              "    </tr>\n",
              "    <tr>\n",
              "      <th>17</th>\n",
              "      <td>0.005415</td>\n",
              "      <td>0.997619</td>\n",
              "      <td>0.411668</td>\n",
              "      <td>0.914286</td>\n",
              "    </tr>\n",
              "    <tr>\n",
              "      <th>18</th>\n",
              "      <td>0.001931</td>\n",
              "      <td>1.000000</td>\n",
              "      <td>0.422278</td>\n",
              "      <td>0.914286</td>\n",
              "    </tr>\n",
              "    <tr>\n",
              "      <th>19</th>\n",
              "      <td>0.002892</td>\n",
              "      <td>0.998810</td>\n",
              "      <td>0.429287</td>\n",
              "      <td>0.919048</td>\n",
              "    </tr>\n",
              "    <tr>\n",
              "      <th>20</th>\n",
              "      <td>0.001608</td>\n",
              "      <td>0.998810</td>\n",
              "      <td>0.432724</td>\n",
              "      <td>0.923810</td>\n",
              "    </tr>\n",
              "  </tbody>\n",
              "</table>\n",
              "</div>"
            ],
            "text/plain": [
              "           loss  accuracy  val_loss  val_accuracy\n",
              "epoch                                            \n",
              "1      0.063414  0.972619  0.859939      0.857143\n",
              "2      0.014330  0.991667  0.733125      0.871429\n",
              "3      0.008315  0.996429  0.456648      0.900000\n",
              "4      0.006117  0.996429  0.433537      0.909524\n",
              "5      0.002813  1.000000  0.437800      0.914286\n",
              "6      0.001178  1.000000  0.432801      0.919048\n",
              "7      0.001654  1.000000  0.432498      0.914286\n",
              "8      0.000624  1.000000  0.381796      0.914286\n",
              "9      0.001717  0.998810  0.404040      0.909524\n",
              "10     0.003911  0.998810  0.430613      0.909524\n",
              "11     0.006748  0.998810  0.404341      0.914286\n",
              "12     0.006861  0.997619  0.452187      0.900000\n",
              "13     0.002653  1.000000  0.454079      0.895238\n",
              "14     0.000817  1.000000  0.409026      0.895238\n",
              "15     0.001688  1.000000  0.402299      0.900000\n",
              "16     0.004768  0.997619  0.407841      0.909524\n",
              "17     0.005415  0.997619  0.411668      0.914286\n",
              "18     0.001931  1.000000  0.422278      0.914286\n",
              "19     0.002892  0.998810  0.429287      0.919048\n",
              "20     0.001608  0.998810  0.432724      0.923810"
            ]
          },
          "metadata": {
            "tags": []
          },
          "execution_count": 17
        }
      ]
    },
    {
      "cell_type": "code",
      "metadata": {
        "colab": {
          "base_uri": "https://localhost:8080/",
          "height": 419
        },
        "id": "iUmi11XZuMzB",
        "outputId": "c005a0e2-9a09-4958-8df1-de1940c6cd02"
      },
      "source": [
        "mobilenet_history_stacked = mobilenet_history.stack().reset_index()\n",
        "mobilenet_history_stacked.columns = ['epoch', 'measure', 'value']\n",
        "mobilenet_history_stacked['metric'] = mobilenet_history_stacked['measure'].apply(\n",
        "    lambda x: x.split('_')[-1]\n",
        ")\n",
        "mobilenet_history_stacked"
      ],
      "execution_count": null,
      "outputs": [
        {
          "output_type": "execute_result",
          "data": {
            "text/html": [
              "<div>\n",
              "<style scoped>\n",
              "    .dataframe tbody tr th:only-of-type {\n",
              "        vertical-align: middle;\n",
              "    }\n",
              "\n",
              "    .dataframe tbody tr th {\n",
              "        vertical-align: top;\n",
              "    }\n",
              "\n",
              "    .dataframe thead th {\n",
              "        text-align: right;\n",
              "    }\n",
              "</style>\n",
              "<table border=\"1\" class=\"dataframe\">\n",
              "  <thead>\n",
              "    <tr style=\"text-align: right;\">\n",
              "      <th></th>\n",
              "      <th>epoch</th>\n",
              "      <th>measure</th>\n",
              "      <th>value</th>\n",
              "      <th>metric</th>\n",
              "    </tr>\n",
              "  </thead>\n",
              "  <tbody>\n",
              "    <tr>\n",
              "      <th>0</th>\n",
              "      <td>1</td>\n",
              "      <td>loss</td>\n",
              "      <td>0.063414</td>\n",
              "      <td>loss</td>\n",
              "    </tr>\n",
              "    <tr>\n",
              "      <th>1</th>\n",
              "      <td>1</td>\n",
              "      <td>accuracy</td>\n",
              "      <td>0.972619</td>\n",
              "      <td>accuracy</td>\n",
              "    </tr>\n",
              "    <tr>\n",
              "      <th>2</th>\n",
              "      <td>1</td>\n",
              "      <td>val_loss</td>\n",
              "      <td>0.859939</td>\n",
              "      <td>loss</td>\n",
              "    </tr>\n",
              "    <tr>\n",
              "      <th>3</th>\n",
              "      <td>1</td>\n",
              "      <td>val_accuracy</td>\n",
              "      <td>0.857143</td>\n",
              "      <td>accuracy</td>\n",
              "    </tr>\n",
              "    <tr>\n",
              "      <th>4</th>\n",
              "      <td>2</td>\n",
              "      <td>loss</td>\n",
              "      <td>0.014330</td>\n",
              "      <td>loss</td>\n",
              "    </tr>\n",
              "    <tr>\n",
              "      <th>...</th>\n",
              "      <td>...</td>\n",
              "      <td>...</td>\n",
              "      <td>...</td>\n",
              "      <td>...</td>\n",
              "    </tr>\n",
              "    <tr>\n",
              "      <th>75</th>\n",
              "      <td>19</td>\n",
              "      <td>val_accuracy</td>\n",
              "      <td>0.919048</td>\n",
              "      <td>accuracy</td>\n",
              "    </tr>\n",
              "    <tr>\n",
              "      <th>76</th>\n",
              "      <td>20</td>\n",
              "      <td>loss</td>\n",
              "      <td>0.001608</td>\n",
              "      <td>loss</td>\n",
              "    </tr>\n",
              "    <tr>\n",
              "      <th>77</th>\n",
              "      <td>20</td>\n",
              "      <td>accuracy</td>\n",
              "      <td>0.998810</td>\n",
              "      <td>accuracy</td>\n",
              "    </tr>\n",
              "    <tr>\n",
              "      <th>78</th>\n",
              "      <td>20</td>\n",
              "      <td>val_loss</td>\n",
              "      <td>0.432724</td>\n",
              "      <td>loss</td>\n",
              "    </tr>\n",
              "    <tr>\n",
              "      <th>79</th>\n",
              "      <td>20</td>\n",
              "      <td>val_accuracy</td>\n",
              "      <td>0.923810</td>\n",
              "      <td>accuracy</td>\n",
              "    </tr>\n",
              "  </tbody>\n",
              "</table>\n",
              "<p>80 rows × 4 columns</p>\n",
              "</div>"
            ],
            "text/plain": [
              "    epoch       measure     value    metric\n",
              "0       1          loss  0.063414      loss\n",
              "1       1      accuracy  0.972619  accuracy\n",
              "2       1      val_loss  0.859939      loss\n",
              "3       1  val_accuracy  0.857143  accuracy\n",
              "4       2          loss  0.014330      loss\n",
              "..    ...           ...       ...       ...\n",
              "75     19  val_accuracy  0.919048  accuracy\n",
              "76     20          loss  0.001608      loss\n",
              "77     20      accuracy  0.998810  accuracy\n",
              "78     20      val_loss  0.432724      loss\n",
              "79     20  val_accuracy  0.923810  accuracy\n",
              "\n",
              "[80 rows x 4 columns]"
            ]
          },
          "metadata": {
            "tags": []
          },
          "execution_count": 18
        }
      ]
    },
    {
      "cell_type": "markdown",
      "metadata": {
        "id": "4WCAGeWbIVBK"
      },
      "source": [
        "Curve di apprendimento"
      ]
    },
    {
      "cell_type": "code",
      "metadata": {
        "colab": {
          "base_uri": "https://localhost:8080/",
          "height": 350
        },
        "id": "m0VZqSV5xKee",
        "outputId": "8e5dae9a-9458-42e3-e3d9-c7c4e65e61f8"
      },
      "source": [
        "import seaborn as sns\n",
        "from matplotlib import pyplot as plt\n",
        "\n",
        "f, axis = plt.subplots(1,2, figsize = (15,5))\n",
        "\n",
        "ax1 = sns.lineplot(x = 'epoch',\n",
        "                   y = 'value',\n",
        "                   hue = 'measure',\n",
        "                   data = mobilenet_history_stacked[mobilenet_history_stacked['metric'] == 'loss'],\n",
        "                   ax = axis[0])\n",
        "ax1.set(title = 'Loss', ylabel = '')\n",
        "ax2 = sns.lineplot(x = 'epoch',\n",
        "                   y = 'value',\n",
        "                   hue = 'measure',\n",
        "                   data = mobilenet_history_stacked[mobilenet_history_stacked['metric'] == 'accuracy'],\n",
        "                   ax = axis[1])\n",
        "ax2.set(ylim = (0.4, 1), title = 'Accuracy', ylabel = '')\n",
        "plt.show()"
      ],
      "execution_count": null,
      "outputs": [
        {
          "output_type": "display_data",
          "data": {
            "image/png": "[encoded data removed]",
            "text/plain": [
              "<Figure size 1080x360 with 2 Axes>"
            ]
          },
          "metadata": {
            "tags": [],
            "needs_background": "light"
          }
        }
      ]
    },
    {
      "cell_type": "markdown",
      "metadata": {
        "id": "hCvcBzURIaMp"
      },
      "source": [
        "Modificando l'optimizer si ottengono risultati molto piu soddisfacenti"
      ]
    },
    {
      "cell_type": "markdown",
      "metadata": {
        "id": "nvNMeimQ9DUV"
      },
      "source": [
        "#Tuning"
      ]
    },
    {
      "cell_type": "markdown",
      "metadata": {
        "id": "cBOja-vPIiFV"
      },
      "source": [
        "Configuazioni per il tuning"
      ]
    },
    {
      "cell_type": "code",
      "metadata": {
        "id": "gfIvddjn8f8L"
      },
      "source": [
        "optimizers_config = {\n",
        "    'adam' : optimizers.Adam,\n",
        "    'adamax' : optimizers.Nadam,\n",
        "    'nadam' : optimizers.Adamax\n",
        "    }\n",
        "tuner_dir = 'tuner_mobilenet'\n",
        "tuner_project = 'tuner_mobilenet'"
      ],
      "execution_count": null,
      "outputs": []
    },
    {
      "cell_type": "code",
      "metadata": {
        "id": "v02_C9LX-ls-"
      },
      "source": [
        "# modello\n",
        "hyper_model = network(\n",
        "        X_train.shape[1:],\n",
        "        pre_trained = mobilenet,\n",
        "        optimizers_config = optimizers_config\n",
        "        )\n",
        "    \n",
        "# creazione del tuner\n",
        "tuner = keras_tuner(\n",
        "        hyper_model,\n",
        "        objective = 'val_accuracy',\n",
        "        seed = 15,\n",
        "        max_trials = 50,\n",
        "        directory = tuner_dir,\n",
        "        project_name = tuner_project\n",
        "        )"
      ],
      "execution_count": null,
      "outputs": []
    },
    {
      "cell_type": "code",
      "metadata": {
        "colab": {
          "base_uri": "https://localhost:8080/"
        },
        "id": "OLVikhfu-lvU",
        "outputId": "45b2c545-ef6e-40b3-8b40-b54178075cc7"
      },
      "source": [
        "# avvio la ricerca\n",
        "tuner.search(\n",
        "        X_train, y_train,\n",
        "        epochs = 30,\n",
        "        validation_data = (X_val, y_valid),\n",
        "        callbacks = [callbacks.EarlyStopping(patience = 4)]\n",
        "        )"
      ],
      "execution_count": null,
      "outputs": [
        {
          "output_type": "stream",
          "text": [
            "Trial 50 Complete [00h 00m 14s]\n",
            "val_accuracy: 0.8619047403335571\n",
            "\n",
            "Best val_accuracy So Far: 0.9333333373069763\n",
            "Total elapsed time: 00h 22m 15s\n",
            "INFO:tensorflow:Oracle triggered exit\n"
          ],
          "name": "stdout"
        }
      ]
    },
    {
      "cell_type": "code",
      "metadata": {
        "colab": {
          "base_uri": "https://localhost:8080/",
          "height": 35
        },
        "id": "qtFk6_heQCSd",
        "outputId": "5b962d3f-efa1-411b-a1c9-7a0394563749"
      },
      "source": [
        "shutil.make_archive('tuner_mobilenet', 'zip', 'tuner_mobilenet')\n",
        "shutil.copyfile(\n",
        "    'tuner_mobilenet.zip',\n",
        "    '/content/gdrive/MyDrive/DSIM/image_classification/tuner_mobilenet.zip'\n",
        "    )"
      ],
      "execution_count": null,
      "outputs": [
        {
          "output_type": "execute_result",
          "data": {
            "application/vnd.google.colaboratory.intrinsic+json": {
              "type": "string"
            },
            "text/plain": [
              "'/content/gdrive/MyDrive/DSIM/image_classification/tuner_mobilenet.zip'"
            ]
          },
          "metadata": {
            "tags": []
          },
          "execution_count": 28
        }
      ]
    },
    {
      "cell_type": "markdown",
      "metadata": {
        "id": "7ntmZ1qzSaZ8"
      },
      "source": [
        "### Risultati"
      ]
    },
    {
      "cell_type": "code",
      "metadata": {
        "id": "DvvWt_UISurn"
      },
      "source": [
        "path_data = '/content/tuner_mobilenet/tuner_mobilenet/'\n",
        "all_files = [os.path.join(path, name) for path, subdirs, files in os.walk(path_data) for name in files]\n",
        "reg = re.compile(\".*trial.json\")\n",
        "trials = [re.sub('\\\\\\\\', '/', x) for x in list(filter(reg.match, all_files))]"
      ],
      "execution_count": null,
      "outputs": []
    },
    {
      "cell_type": "code",
      "metadata": {
        "id": "or0yJ0CGS_x6"
      },
      "source": [
        "# dataframe dei risultati del tuning per ogni configurazione\n",
        "trials_list = []\n",
        "for trial in trials:\n",
        "    with open(trial, 'r') as f:\n",
        "        current_file = json.load(f)\n",
        "    trials_list.append(pd.DataFrame({\n",
        "    'trial_id' : [current_file['trial_id']],\n",
        "    'optimizer' : [current_file['hyperparameters']['values']['optimizer']],\n",
        "    'learning_rate' : current_file['hyperparameters']['values']['learning_rate'],\n",
        "    'epsilon' : current_file['hyperparameters']['values']['epsilon'],\n",
        "    'batch_size' : current_file['hyperparameters']['values']['batch_size'],\n",
        "    'dropout_rate' : current_file['hyperparameters']['values']['dropout_rate'],\n",
        "    'loss' : current_file['metrics']['metrics']['loss']['observations'][0]['value'],\n",
        "    'accuracy' : current_file['metrics']['metrics']['accuracy']['observations'][0]['value'],\n",
        "    'val_loss' : current_file['metrics']['metrics']['val_loss']['observations'][0]['value'],\n",
        "    'val_accuracy' : current_file['metrics']['metrics']['val_accuracy']['observations'][0]['value']\n",
        "}))"
      ],
      "execution_count": null,
      "outputs": []
    },
    {
      "cell_type": "code",
      "metadata": {
        "colab": {
          "base_uri": "https://localhost:8080/",
          "height": 309
        },
        "id": "SWo93YGFTJWP",
        "outputId": "f96c2bee-ae0e-4898-9f8f-83c6ee58ab9d"
      },
      "source": [
        "trials_data = pd.concat(trials_list).reset_index(drop = True)\n",
        "trials_data['loss'] = trials_data['loss'].apply(lambda x : 0 if x == float('+inf') else x)\n",
        "trials_data['val_loss'] = trials_data['val_loss'].apply(lambda x : 0 if x == float('+inf') else x)\n",
        "trials_data.to_csv(path_data + 'all_trials.csv', index = False)\n",
        "trials_data.sort_values('val_accuracy', ascending = False).head()"
      ],
      "execution_count": null,
      "outputs": [
        {
          "output_type": "execute_result",
          "data": {
            "text/html": [
              "<div>\n",
              "<style scoped>\n",
              "    .dataframe tbody tr th:only-of-type {\n",
              "        vertical-align: middle;\n",
              "    }\n",
              "\n",
              "    .dataframe tbody tr th {\n",
              "        vertical-align: top;\n",
              "    }\n",
              "\n",
              "    .dataframe thead th {\n",
              "        text-align: right;\n",
              "    }\n",
              "</style>\n",
              "<table border=\"1\" class=\"dataframe\">\n",
              "  <thead>\n",
              "    <tr style=\"text-align: right;\">\n",
              "      <th></th>\n",
              "      <th>trial_id</th>\n",
              "      <th>optimizer</th>\n",
              "      <th>learning_rate</th>\n",
              "      <th>epsilon</th>\n",
              "      <th>batch_size</th>\n",
              "      <th>dropout_rate</th>\n",
              "      <th>loss</th>\n",
              "      <th>accuracy</th>\n",
              "      <th>val_loss</th>\n",
              "      <th>val_accuracy</th>\n",
              "    </tr>\n",
              "  </thead>\n",
              "  <tbody>\n",
              "    <tr>\n",
              "      <th>27</th>\n",
              "      <td>c7ea02f483e0b981f45edb760c3d0ecb</td>\n",
              "      <td>nadam</td>\n",
              "      <td>0.000704</td>\n",
              "      <td>1.037733e-07</td>\n",
              "      <td>128</td>\n",
              "      <td>0.2</td>\n",
              "      <td>0.509871</td>\n",
              "      <td>1.0</td>\n",
              "      <td>0.269017</td>\n",
              "      <td>0.933333</td>\n",
              "    </tr>\n",
              "    <tr>\n",
              "      <th>16</th>\n",
              "      <td>d5b65d15c2d64034acc3d204be84f71c</td>\n",
              "      <td>nadam</td>\n",
              "      <td>0.000687</td>\n",
              "      <td>1.144167e-07</td>\n",
              "      <td>64</td>\n",
              "      <td>0.8</td>\n",
              "      <td>0.409424</td>\n",
              "      <td>1.0</td>\n",
              "      <td>0.411321</td>\n",
              "      <td>0.928571</td>\n",
              "    </tr>\n",
              "    <tr>\n",
              "      <th>3</th>\n",
              "      <td>38f225632bdcb313d38d1a2d85875b70</td>\n",
              "      <td>nadam</td>\n",
              "      <td>0.001363</td>\n",
              "      <td>8.565458e-08</td>\n",
              "      <td>32</td>\n",
              "      <td>0.7</td>\n",
              "      <td>0.042639</td>\n",
              "      <td>1.0</td>\n",
              "      <td>0.591979</td>\n",
              "      <td>0.928571</td>\n",
              "    </tr>\n",
              "    <tr>\n",
              "      <th>30</th>\n",
              "      <td>251759b7f6d48e481dfa7e10100b0ef5</td>\n",
              "      <td>adam</td>\n",
              "      <td>0.000800</td>\n",
              "      <td>1.428312e-07</td>\n",
              "      <td>64</td>\n",
              "      <td>0.8</td>\n",
              "      <td>0.367189</td>\n",
              "      <td>1.0</td>\n",
              "      <td>1.831912</td>\n",
              "      <td>0.928571</td>\n",
              "    </tr>\n",
              "    <tr>\n",
              "      <th>44</th>\n",
              "      <td>91ee17f9cce583324c9a4167676c6a8e</td>\n",
              "      <td>nadam</td>\n",
              "      <td>0.000881</td>\n",
              "      <td>9.675917e-08</td>\n",
              "      <td>64</td>\n",
              "      <td>0.1</td>\n",
              "      <td>0.163537</td>\n",
              "      <td>1.0</td>\n",
              "      <td>0.319333</td>\n",
              "      <td>0.928571</td>\n",
              "    </tr>\n",
              "  </tbody>\n",
              "</table>\n",
              "</div>"
            ],
            "text/plain": [
              "                            trial_id optimizer  ...  val_loss  val_accuracy\n",
              "27  c7ea02f483e0b981f45edb760c3d0ecb     nadam  ...  0.269017      0.933333\n",
              "16  d5b65d15c2d64034acc3d204be84f71c     nadam  ...  0.411321      0.928571\n",
              "3   38f225632bdcb313d38d1a2d85875b70     nadam  ...  0.591979      0.928571\n",
              "30  251759b7f6d48e481dfa7e10100b0ef5      adam  ...  1.831912      0.928571\n",
              "44  91ee17f9cce583324c9a4167676c6a8e     nadam  ...  0.319333      0.928571\n",
              "\n",
              "[5 rows x 10 columns]"
            ]
          },
          "metadata": {
            "tags": []
          },
          "execution_count": 39
        }
      ]
    },
    {
      "cell_type": "markdown",
      "metadata": {
        "id": "9LuxC8QfcUsD"
      },
      "source": [
        "I risultati migliori si ottengono utilizzando come ottimizzatore Nadam (lr = 0.000704, eps = 1.037733e-07), una batch size di 128 e un dropout rate di 0.2."
      ]
    },
    {
      "cell_type": "code",
      "metadata": {
        "colab": {
          "base_uri": "https://localhost:8080/",
          "height": 35
        },
        "id": "I66c7MXBT6R9",
        "outputId": "d08c37a9-3a28-4ccc-9514-da3850dacb54"
      },
      "source": [
        "trials_data.to_pickle('tuning_results.df')\n",
        "shutil.copyfile(\n",
        "    'tuning_results.df',\n",
        "    '/content/gdrive/MyDrive/DSIM/image_classification/tuning_results.df'\n",
        "    )"
      ],
      "execution_count": null,
      "outputs": [
        {
          "output_type": "execute_result",
          "data": {
            "application/vnd.google.colaboratory.intrinsic+json": {
              "type": "string"
            },
            "text/plain": [
              "'/content/gdrive/MyDrive/DSIM/image_classification/tuning_results.df'"
            ]
          },
          "metadata": {
            "tags": []
          },
          "execution_count": 40
        }
      ]
    },
    {
      "cell_type": "markdown",
      "metadata": {
        "id": "L8Q7uzfFcq48"
      },
      "source": [
        "Learning curve del best trial"
      ]
    },
    {
      "cell_type": "code",
      "metadata": {
        "colab": {
          "base_uri": "https://localhost:8080/",
          "height": 204
        },
        "id": "mjwHqHPwUg-G",
        "outputId": "bf0bb17f-8ee7-4faa-9dbd-5a7cd685656d"
      },
      "source": [
        "best_trial = trials_data.sort_values('val_accuracy', ascending = False)['trial_id'].iloc[0]\n",
        "learning_curves = pd.read_csv(\n",
        "    path_data + best_trial + '.txt',\n",
        "    names = ['epoch', 'timestamp', 'train_loss', 'val_loss', 'train_accuracy', 'val_accuracy']\n",
        ")\n",
        "\n",
        "learning_curves.head()"
      ],
      "execution_count": null,
      "outputs": [
        {
          "output_type": "execute_result",
          "data": {
            "text/html": [
              "<div>\n",
              "<style scoped>\n",
              "    .dataframe tbody tr th:only-of-type {\n",
              "        vertical-align: middle;\n",
              "    }\n",
              "\n",
              "    .dataframe tbody tr th {\n",
              "        vertical-align: top;\n",
              "    }\n",
              "\n",
              "    .dataframe thead th {\n",
              "        text-align: right;\n",
              "    }\n",
              "</style>\n",
              "<table border=\"1\" class=\"dataframe\">\n",
              "  <thead>\n",
              "    <tr style=\"text-align: right;\">\n",
              "      <th></th>\n",
              "      <th>epoch</th>\n",
              "      <th>timestamp</th>\n",
              "      <th>train_loss</th>\n",
              "      <th>val_loss</th>\n",
              "      <th>train_accuracy</th>\n",
              "      <th>val_accuracy</th>\n",
              "    </tr>\n",
              "  </thead>\n",
              "  <tbody>\n",
              "    <tr>\n",
              "      <th>0</th>\n",
              "      <td>0</td>\n",
              "      <td>2021-02-16 09:44:51.572062</td>\n",
              "      <td>0.509871</td>\n",
              "      <td>0.257096</td>\n",
              "      <td>0.827381</td>\n",
              "      <td>0.933333</td>\n",
              "    </tr>\n",
              "    <tr>\n",
              "      <th>1</th>\n",
              "      <td>1</td>\n",
              "      <td>2021-02-16 09:44:54.082541</td>\n",
              "      <td>0.005730</td>\n",
              "      <td>0.260988</td>\n",
              "      <td>1.000000</td>\n",
              "      <td>0.933333</td>\n",
              "    </tr>\n",
              "    <tr>\n",
              "      <th>2</th>\n",
              "      <td>2</td>\n",
              "      <td>2021-02-16 09:44:56.443441</td>\n",
              "      <td>0.002649</td>\n",
              "      <td>0.265934</td>\n",
              "      <td>1.000000</td>\n",
              "      <td>0.933333</td>\n",
              "    </tr>\n",
              "    <tr>\n",
              "      <th>3</th>\n",
              "      <td>3</td>\n",
              "      <td>2021-02-16 09:44:58.821856</td>\n",
              "      <td>0.002250</td>\n",
              "      <td>0.268168</td>\n",
              "      <td>1.000000</td>\n",
              "      <td>0.933333</td>\n",
              "    </tr>\n",
              "    <tr>\n",
              "      <th>4</th>\n",
              "      <td>4</td>\n",
              "      <td>2021-02-16 09:45:01.191531</td>\n",
              "      <td>0.001814</td>\n",
              "      <td>0.269017</td>\n",
              "      <td>1.000000</td>\n",
              "      <td>0.933333</td>\n",
              "    </tr>\n",
              "  </tbody>\n",
              "</table>\n",
              "</div>"
            ],
            "text/plain": [
              "   epoch                   timestamp  ...  train_accuracy  val_accuracy\n",
              "0      0  2021-02-16 09:44:51.572062  ...        0.827381      0.933333\n",
              "1      1  2021-02-16 09:44:54.082541  ...        1.000000      0.933333\n",
              "2      2  2021-02-16 09:44:56.443441  ...        1.000000      0.933333\n",
              "3      3  2021-02-16 09:44:58.821856  ...        1.000000      0.933333\n",
              "4      4  2021-02-16 09:45:01.191531  ...        1.000000      0.933333\n",
              "\n",
              "[5 rows x 6 columns]"
            ]
          },
          "metadata": {
            "tags": []
          },
          "execution_count": 50
        }
      ]
    },
    {
      "cell_type": "markdown",
      "metadata": {
        "id": "oS9SDCBlWCmy"
      },
      "source": [
        "# Modello finale"
      ]
    },
    {
      "cell_type": "markdown",
      "metadata": {
        "id": "CNP5Gz3Xc4Al"
      },
      "source": [
        "Costruzione del modello finale usando gli iperparametri vincenti"
      ]
    },
    {
      "cell_type": "code",
      "metadata": {
        "id": "bdYLEREvbuxv"
      },
      "source": [
        "best_hps = tuner.get_best_hyperparameters(num_trials=1)[0]"
      ],
      "execution_count": null,
      "outputs": []
    },
    {
      "cell_type": "code",
      "metadata": {
        "colab": {
          "base_uri": "https://localhost:8080/"
        },
        "id": "GXqx16y-bu1X",
        "outputId": "a8f61f17-9919-4699-c46a-bea2616851d6"
      },
      "source": [
        "final_model = tuner.hypermodel.build(best_hps)\n",
        "history = final_model.fit(\n",
        "    X_train, y_train,\n",
        "    validation_data = (X_val, y_valid),\n",
        "    epochs = 30,\n",
        "    callbacks = [callbacks.EarlyStopping(patience = 4)],\n",
        "    batch_size = 128\n",
        "    )"
      ],
      "execution_count": null,
      "outputs": [
        {
          "output_type": "stream",
          "text": [
            "Epoch 1/30\n",
            "7/7 [==============================] - 5s 411ms/step - loss: 1.3059 - accuracy: 0.5041 - val_loss: 0.5672 - val_accuracy: 0.7143\n",
            "Epoch 2/30\n",
            "7/7 [==============================] - 2s 339ms/step - loss: 0.0247 - accuracy: 1.0000 - val_loss: 0.4669 - val_accuracy: 0.8048\n",
            "Epoch 3/30\n",
            "7/7 [==============================] - 2s 339ms/step - loss: 0.0070 - accuracy: 1.0000 - val_loss: 0.4077 - val_accuracy: 0.8333\n",
            "Epoch 4/30\n",
            "7/7 [==============================] - 2s 339ms/step - loss: 0.0034 - accuracy: 1.0000 - val_loss: 0.3668 - val_accuracy: 0.8619\n",
            "Epoch 5/30\n",
            "7/7 [==============================] - 2s 342ms/step - loss: 0.0021 - accuracy: 1.0000 - val_loss: 0.3380 - val_accuracy: 0.8857\n",
            "Epoch 6/30\n",
            "7/7 [==============================] - 2s 340ms/step - loss: 0.0034 - accuracy: 1.0000 - val_loss: 0.3169 - val_accuracy: 0.8905\n",
            "Epoch 7/30\n",
            "7/7 [==============================] - 2s 342ms/step - loss: 0.0021 - accuracy: 1.0000 - val_loss: 0.3004 - val_accuracy: 0.9048\n",
            "Epoch 8/30\n",
            "7/7 [==============================] - 2s 341ms/step - loss: 0.0014 - accuracy: 1.0000 - val_loss: 0.2876 - val_accuracy: 0.9143\n",
            "Epoch 9/30\n",
            "7/7 [==============================] - 2s 343ms/step - loss: 0.0012 - accuracy: 1.0000 - val_loss: 0.2780 - val_accuracy: 0.9143\n",
            "Epoch 10/30\n",
            "7/7 [==============================] - 2s 341ms/step - loss: 0.0016 - accuracy: 1.0000 - val_loss: 0.2704 - val_accuracy: 0.9095\n",
            "Epoch 11/30\n",
            "7/7 [==============================] - 2s 342ms/step - loss: 0.0014 - accuracy: 1.0000 - val_loss: 0.2646 - val_accuracy: 0.9095\n",
            "Epoch 12/30\n",
            "7/7 [==============================] - 2s 340ms/step - loss: 0.0012 - accuracy: 1.0000 - val_loss: 0.2601 - val_accuracy: 0.9095\n",
            "Epoch 13/30\n",
            "7/7 [==============================] - 2s 342ms/step - loss: 9.7587e-04 - accuracy: 1.0000 - val_loss: 0.2567 - val_accuracy: 0.9143\n",
            "Epoch 14/30\n",
            "7/7 [==============================] - 2s 342ms/step - loss: 0.0010 - accuracy: 1.0000 - val_loss: 0.2543 - val_accuracy: 0.9190\n",
            "Epoch 15/30\n",
            "7/7 [==============================] - 2s 344ms/step - loss: 0.0010 - accuracy: 1.0000 - val_loss: 0.2523 - val_accuracy: 0.9190\n",
            "Epoch 16/30\n",
            "7/7 [==============================] - 2s 341ms/step - loss: 9.3599e-04 - accuracy: 1.0000 - val_loss: 0.2510 - val_accuracy: 0.9238\n",
            "Epoch 17/30\n",
            "7/7 [==============================] - 2s 341ms/step - loss: 0.0010 - accuracy: 1.0000 - val_loss: 0.2498 - val_accuracy: 0.9238\n",
            "Epoch 18/30\n",
            "7/7 [==============================] - 2s 341ms/step - loss: 0.0010 - accuracy: 1.0000 - val_loss: 0.2490 - val_accuracy: 0.9238\n",
            "Epoch 19/30\n",
            "7/7 [==============================] - 2s 344ms/step - loss: 7.7024e-04 - accuracy: 1.0000 - val_loss: 0.2486 - val_accuracy: 0.9238\n",
            "Epoch 20/30\n",
            "7/7 [==============================] - 2s 340ms/step - loss: 7.4197e-04 - accuracy: 1.0000 - val_loss: 0.2487 - val_accuracy: 0.9238\n",
            "Epoch 21/30\n",
            "7/7 [==============================] - 2s 345ms/step - loss: 6.8575e-04 - accuracy: 1.0000 - val_loss: 0.2491 - val_accuracy: 0.9238\n",
            "Epoch 22/30\n",
            "7/7 [==============================] - 2s 342ms/step - loss: 7.9538e-04 - accuracy: 1.0000 - val_loss: 0.2498 - val_accuracy: 0.9238\n",
            "Epoch 23/30\n",
            "7/7 [==============================] - 2s 342ms/step - loss: 6.6976e-04 - accuracy: 1.0000 - val_loss: 0.2501 - val_accuracy: 0.9238\n"
          ],
          "name": "stdout"
        }
      ]
    },
    {
      "cell_type": "code",
      "metadata": {
        "id": "DE8e9Ei2bu4P"
      },
      "source": [
        "K.clear_session()\n",
        "mobilenet = applications.MobileNet((224,224,3),include_top=False, pooling='avg')\n",
        "cut = 'conv_dw_6_relu'\n",
        "mobilenet_pre_trained = Model(\n",
        "    mobilenet.input,\n",
        "    outputs = mobilenet.get_layer(cut).output,\n",
        "    name = 'pre_trained')"
      ],
      "execution_count": null,
      "outputs": []
    },
    {
      "cell_type": "markdown",
      "metadata": {
        "id": "_oFQOn3JdRmQ"
      },
      "source": [
        "Modello finale ottenuto dalla concatenazione di quello pre-addestrato (e congelato) e la parte finale della CNN"
      ]
    },
    {
      "cell_type": "code",
      "metadata": {
        "id": "Iasd0ghegkt8"
      },
      "source": [
        "model = Sequential(\n",
        "    [\n",
        "      mobilenet_pre_trained,\n",
        "      final_model\n",
        "     ]\n",
        ")\n",
        "\n",
        "model.compile(metrics = 'accuracy')"
      ],
      "execution_count": null,
      "outputs": []
    },
    {
      "cell_type": "code",
      "metadata": {
        "colab": {
          "base_uri": "https://localhost:8080/"
        },
        "id": "JbPvDtq5hA50",
        "outputId": "09398ca2-d7ca-4a7f-c6e4-6b4d98868f48"
      },
      "source": [
        "model.summary()"
      ],
      "execution_count": null,
      "outputs": [
        {
          "output_type": "stream",
          "text": [
            "Model: \"sequential_1\"\n",
            "_________________________________________________________________\n",
            "Layer (type)                 Output Shape              Param #   \n",
            "=================================================================\n",
            "pre_trained (Functional)     (None, 14, 14, 256)       140480    \n",
            "_________________________________________________________________\n",
            "model (Functional)           (None, 3)                 3091459   \n",
            "=================================================================\n",
            "Total params: 3,231,939\n",
            "Trainable params: 3,210,051\n",
            "Non-trainable params: 21,888\n",
            "_________________________________________________________________\n"
          ],
          "name": "stdout"
        }
      ]
    },
    {
      "cell_type": "code",
      "metadata": {
        "colab": {
          "base_uri": "https://localhost:8080/"
        },
        "id": "dKO7U3Lubu7h",
        "outputId": "98429827-a148-40d9-fc77-523fa9a3a281"
      },
      "source": [
        "model.save('final_model_image_classification')"
      ],
      "execution_count": null,
      "outputs": [
        {
          "output_type": "stream",
          "text": [
            "INFO:tensorflow:Assets written to: final_model_image_classification/assets\n"
          ],
          "name": "stdout"
        }
      ]
    },
    {
      "cell_type": "code",
      "metadata": {
        "colab": {
          "base_uri": "https://localhost:8080/",
          "height": 35
        },
        "id": "f48FZMMTh-Md",
        "outputId": "e98f8337-b7fb-4ece-ecab-17c79ef2852a"
      },
      "source": [
        "shutil.make_archive('final_model_image_classification', 'zip', 'final_model_image_classification')\n",
        "shutil.copyfile(\n",
        "    'final_model_image_classification.zip',\n",
        "    '/content/gdrive/MyDrive/DSIM/image_classification/final_model_image_classification.zip'\n",
        "    )"
      ],
      "execution_count": null,
      "outputs": [
        {
          "output_type": "execute_result",
          "data": {
            "application/vnd.google.colaboratory.intrinsic+json": {
              "type": "string"
            },
            "text/plain": [
              "'/content/gdrive/MyDrive/DSIM/image_classification/final_model_image_classification.zip'"
            ]
          },
          "metadata": {
            "tags": []
          },
          "execution_count": 90
        }
      ]
    },
    {
      "cell_type": "markdown",
      "metadata": {
        "id": "-aVcCXoDdf8w"
      },
      "source": [
        "Memorizzazione della codifica delle labels"
      ]
    },
    {
      "cell_type": "code",
      "metadata": {
        "colab": {
          "base_uri": "https://localhost:8080/"
        },
        "id": "3JwWJVLRbu-e",
        "outputId": "aec1d4b9-dbb8-478d-8b59-7c40772a155e"
      },
      "source": [
        "map_classes = {}\n",
        "for label in train_generator.class_indices:\n",
        "  map_classes[train_generator.class_indices[label]] = label\n",
        "map_classes"
      ],
      "execution_count": null,
      "outputs": [
        {
          "output_type": "execute_result",
          "data": {
            "text/plain": [
              "{0: 'defocused_blurred', 1: 'motion_blurred', 2: 'sharp'}"
            ]
          },
          "metadata": {
            "tags": []
          },
          "execution_count": 92
        }
      ]
    },
    {
      "cell_type": "code",
      "metadata": {
        "id": "BTp4Nq9Ki3Es"
      },
      "source": [
        "with open('map_classes.pkl', 'wb') as f:\n",
        "  pickle.dump(map_classes, f)"
      ],
      "execution_count": null,
      "outputs": []
    },
    {
      "cell_type": "code",
      "metadata": {
        "colab": {
          "base_uri": "https://localhost:8080/",
          "height": 35
        },
        "id": "FCNxADUKkGkq",
        "outputId": "653363d1-51dd-46ee-b8b2-65ddbc9353c2"
      },
      "source": [
        "shutil.copyfile(\n",
        "    'map_classes.pkl',\n",
        "    '/content/gdrive/MyDrive/DSIM/image_classification/map_classes.pkl'\n",
        "    )"
      ],
      "execution_count": null,
      "outputs": [
        {
          "output_type": "execute_result",
          "data": {
            "application/vnd.google.colaboratory.intrinsic+json": {
              "type": "string"
            },
            "text/plain": [
              "'/content/gdrive/MyDrive/DSIM/image_classification/map_classes.pkl'"
            ]
          },
          "metadata": {
            "tags": []
          },
          "execution_count": 102
        }
      ]
    }
  ]
}