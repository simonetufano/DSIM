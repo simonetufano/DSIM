{
  "nbformat": 4,
  "nbformat_minor": 0,
  "metadata": {
    "colab": {
      "name": "image_classification_CNN_enrich.ipynb",
      "provenance": [],
      "collapsed_sections": []
    },
    "kernelspec": {
      "name": "python3",
      "display_name": "Python 3"
    },
    "accelerator": "GPU"
  },
  "cells": [
    {
      "cell_type": "code",
      "metadata": {
        "colab": {
          "base_uri": "https://localhost:8080/"
        },
        "id": "_GHM8d05TkT7",
        "outputId": "7d8b6d7b-5399-4cef-e25e-4f8325ed9a64"
      },
      "source": [
        "pip install keras-tuner"
      ],
      "execution_count": 1,
      "outputs": [
        {
          "output_type": "stream",
          "text": [
            "Collecting keras-tuner\n",
            "\u001b[?25l  Downloading https://files.pythonhosted.org/packages/20/ec/1ef246787174b1e2bb591c95f29d3c1310070cad877824f907faba3dade9/keras-tuner-1.0.2.tar.gz (62kB)\n",
            "\r\u001b[K     |█████▏                          | 10kB 18.5MB/s eta 0:00:01\r\u001b[K     |██████████▍                     | 20kB 16.0MB/s eta 0:00:01\r\u001b[K     |███████████████▋                | 30kB 9.5MB/s eta 0:00:01\r\u001b[K     |████████████████████▉           | 40kB 7.7MB/s eta 0:00:01\r\u001b[K     |██████████████████████████      | 51kB 4.2MB/s eta 0:00:01\r\u001b[K     |███████████████████████████████▎| 61kB 4.7MB/s eta 0:00:01\r\u001b[K     |████████████████████████████████| 71kB 3.7MB/s \n",
            "\u001b[?25hRequirement already satisfied: packaging in /usr/local/lib/python3.6/dist-packages (from keras-tuner) (20.9)\n",
            "Requirement already satisfied: future in /usr/local/lib/python3.6/dist-packages (from keras-tuner) (0.16.0)\n",
            "Requirement already satisfied: numpy in /usr/local/lib/python3.6/dist-packages (from keras-tuner) (1.19.5)\n",
            "Requirement already satisfied: tabulate in /usr/local/lib/python3.6/dist-packages (from keras-tuner) (0.8.7)\n",
            "Collecting terminaltables\n",
            "  Downloading https://files.pythonhosted.org/packages/9b/c4/4a21174f32f8a7e1104798c445dacdc1d4df86f2f26722767034e4de4bff/terminaltables-3.1.0.tar.gz\n",
            "Collecting colorama\n",
            "  Downloading https://files.pythonhosted.org/packages/44/98/5b86278fbbf250d239ae0ecb724f8572af1c91f4a11edf4d36a206189440/colorama-0.4.4-py2.py3-none-any.whl\n",
            "Requirement already satisfied: tqdm in /usr/local/lib/python3.6/dist-packages (from keras-tuner) (4.41.1)\n",
            "Requirement already satisfied: requests in /usr/local/lib/python3.6/dist-packages (from keras-tuner) (2.23.0)\n",
            "Requirement already satisfied: scipy in /usr/local/lib/python3.6/dist-packages (from keras-tuner) (1.4.1)\n",
            "Requirement already satisfied: scikit-learn in /usr/local/lib/python3.6/dist-packages (from keras-tuner) (0.22.2.post1)\n",
            "Requirement already satisfied: pyparsing>=2.0.2 in /usr/local/lib/python3.6/dist-packages (from packaging->keras-tuner) (2.4.7)\n",
            "Requirement already satisfied: chardet<4,>=3.0.2 in /usr/local/lib/python3.6/dist-packages (from requests->keras-tuner) (3.0.4)\n",
            "Requirement already satisfied: idna<3,>=2.5 in /usr/local/lib/python3.6/dist-packages (from requests->keras-tuner) (2.10)\n",
            "Requirement already satisfied: certifi>=2017.4.17 in /usr/local/lib/python3.6/dist-packages (from requests->keras-tuner) (2020.12.5)\n",
            "Requirement already satisfied: urllib3!=1.25.0,!=1.25.1,<1.26,>=1.21.1 in /usr/local/lib/python3.6/dist-packages (from requests->keras-tuner) (1.24.3)\n",
            "Requirement already satisfied: joblib>=0.11 in /usr/local/lib/python3.6/dist-packages (from scikit-learn->keras-tuner) (1.0.0)\n",
            "Building wheels for collected packages: keras-tuner, terminaltables\n",
            "  Building wheel for keras-tuner (setup.py) ... \u001b[?25l\u001b[?25hdone\n",
            "  Created wheel for keras-tuner: filename=keras_tuner-1.0.2-cp36-none-any.whl size=78939 sha256=cd09c43355d7663b2ae5052a390ce04bb4700d4880f845431ff98ac52ee62d93\n",
            "  Stored in directory: /root/.cache/pip/wheels/bb/a1/8a/7c3de0efb3707a1701b36ebbfdbc4e67aedf6d4943a1f463d6\n",
            "  Building wheel for terminaltables (setup.py) ... \u001b[?25l\u001b[?25hdone\n",
            "  Created wheel for terminaltables: filename=terminaltables-3.1.0-cp36-none-any.whl size=15358 sha256=bfd8d190286da995bbd68d4d67560c0762049afad97a30a0b31d9f54e8457d99\n",
            "  Stored in directory: /root/.cache/pip/wheels/30/6b/50/6c75775b681fb36cdfac7f19799888ef9d8813aff9e379663e\n",
            "Successfully built keras-tuner terminaltables\n",
            "Installing collected packages: terminaltables, colorama, keras-tuner\n",
            "Successfully installed colorama-0.4.4 keras-tuner-1.0.2 terminaltables-3.1.0\n"
          ],
          "name": "stdout"
        }
      ]
    },
    {
      "cell_type": "code",
      "metadata": {
        "id": "eLaaEPf4Tooe"
      },
      "source": [
        "import zipfile\n",
        "import os\n",
        "import cv2\n",
        "import shutil\n",
        "\n",
        "import numpy as np\n",
        "import pandas as pd\n",
        "from datetime import datetime as dt\n",
        "from matplotlib import pyplot as plt\n",
        "import json\n",
        "import re\n",
        "import pickle\n",
        "\n",
        "from sklearn.model_selection import train_test_split\n",
        "\n",
        "from tensorflow.keras import layers\n",
        "from tensorflow.keras import Model\n",
        "from tensorflow.keras.preprocessing import image \n",
        "from tensorflow.keras import backend as K\n",
        "from tensorflow.keras import applications\n",
        "from tensorflow.keras import utils\n",
        "from tensorflow.keras import regularizers\n",
        "from tensorflow.keras import optimizers\n",
        "from tensorflow.keras import callbacks\n",
        "from tensorflow.keras.models import load_model\n",
        "from tensorflow.keras import callbacks\n",
        "\n",
        "#import kerastuner"
      ],
      "execution_count": 1,
      "outputs": []
    },
    {
      "cell_type": "markdown",
      "metadata": {
        "id": "4FOwyBVG8yP-"
      },
      "source": [
        "Importazione dati"
      ]
    },
    {
      "cell_type": "code",
      "metadata": {
        "id": "B-96YZq6Tvac"
      },
      "source": [
        "shutil.copyfile(\n",
        "    '/content/drive/MyDrive/DSIM/image_classification/imagenet_mini_transformed.zip',\n",
        "    'imagenet_mini_transformed.zip')\n",
        "\n",
        "image_data = zipfile.ZipFile('imagenet_mini_transformed.zip')\n",
        "image_data.extractall()\n",
        "image_data.close()"
      ],
      "execution_count": 99,
      "outputs": []
    },
    {
      "cell_type": "code",
      "metadata": {
        "id": "Hllce1vdVOWY"
      },
      "source": [
        "shutil.copyfile('/content/drive/MyDrive/DSIM/image_classification/archive.zip', 'archive.zip')\n",
        "\n",
        "image_data = zipfile.ZipFile('archive.zip')\n",
        "image_data.extractall()\n",
        "image_data.close()"
      ],
      "execution_count": 4,
      "outputs": []
    },
    {
      "cell_type": "markdown",
      "metadata": {
        "id": "htdUtkvF8z3_"
      },
      "source": [
        "Unione dei due dataset"
      ]
    },
    {
      "cell_type": "code",
      "metadata": {
        "id": "OEYVs3lCVzog"
      },
      "source": [
        "for folder in ['motion_blurred', 'defocused_blurred', 'sharp']:\n",
        "  for f in os.listdir(folder):\n",
        "    shutil.copyfile(folder + '/' + f,\n",
        "                    'imagenet_mini_transformed/' + folder + '/' + f)"
      ],
      "execution_count": 100,
      "outputs": []
    },
    {
      "cell_type": "code",
      "metadata": {
        "id": "mdNjk8RtUeH6"
      },
      "source": [
        "def build_model(pre_trained, cut, optimizer):\n",
        "  \n",
        "  # elenco dei nomi dei layers\n",
        "  layer_names = [layer.name for layer in pre_trained.layers]\n",
        "  layer_idx = layer_names.index(cut) + 1\n",
        "  \n",
        "  # ricostruzione architettura dal primo layer non congelato (layer_idx)\n",
        "  inputs = layers.Input(X_train.shape[1:])\n",
        "  x = inputs\n",
        "  for layer in pre_trained.layers[layer_idx:]:\n",
        "    x = layer (x)\n",
        "  \n",
        "  # aggiunta layers di dropout e pooling\n",
        "  x = layers.GlobalAveragePooling2D() (x)\n",
        "  x = layers.Dropout(0.5)(x)\n",
        "\n",
        "  # output layer\n",
        "  x = layers.Dense(3, activation='softmax')(x)\n",
        "\n",
        "  model = Model(inputs = inputs, outputs = x)\n",
        "  \n",
        "  model.compile(\n",
        "      loss = 'categorical_crossentropy',\n",
        "      optimizer = optimizer,\n",
        "      metrics = [\"accuracy\"]\n",
        "      )\n",
        "  \n",
        "  return model"
      ],
      "execution_count": 2,
      "outputs": []
    },
    {
      "cell_type": "code",
      "metadata": {
        "id": "9GOvC1zuUhBL"
      },
      "source": [
        "# funzione per visualizzazione immagini\n",
        "def display_img(img_list, nrow = 1, ncol = 0, size = (10,10), text = []):\n",
        "\n",
        "  if not ncol:\n",
        "    ncol = len(img_list)\n",
        "  \n",
        "  fig = plt.figure(figsize=(size[0], size[1]))\n",
        "  k = 0\n",
        "  for i in range(nrow):\n",
        "    for j in range(ncol):\n",
        "      current_plot = fig.add_subplot(nrow, ncol, k+1)\n",
        "      if k < len(text):\n",
        "        current_plot.title.set_text(text[k])\n",
        "      plt.imshow(img_list[k])\n",
        "      k += 1"
      ],
      "execution_count": 3,
      "outputs": []
    },
    {
      "cell_type": "markdown",
      "metadata": {
        "id": "8Wx4eG0a9A99"
      },
      "source": [
        "Data loader e preprocessing"
      ]
    },
    {
      "cell_type": "code",
      "metadata": {
        "colab": {
          "base_uri": "https://localhost:8080/"
        },
        "id": "Ui9DTDIDXRYq",
        "outputId": "10101566-b876-42f3-9774-47cb5ac09df0"
      },
      "source": [
        "processing = image.ImageDataGenerator(\n",
        "      preprocessing_function = applications.mobilenet.preprocess_input,\n",
        "      validation_split = 0.3\n",
        "      )\n",
        "\n",
        "train_generator = processing.flow_from_directory(\n",
        "      directory = 'imagenet_mini_transformed',\n",
        "      target_size = (224, 224), \n",
        "      color_mode = 'rgb', \n",
        "      batch_size = 256,\n",
        "      class_mode = 'categorical',\n",
        "      shuffle = False,\n",
        "      subset = 'training',\n",
        "      seed = 3\n",
        "      )\n",
        "valid_generator = processing.flow_from_directory(\n",
        "      directory = 'imagenet_mini_transformed',\n",
        "      target_size = (224, 224), \n",
        "      color_mode = 'rgb', \n",
        "      batch_size = 256,\n",
        "      class_mode = 'categorical',\n",
        "      shuffle = False,\n",
        "      subset = 'validation',\n",
        "      seed = 3\n",
        "      )"
      ],
      "execution_count": 4,
      "outputs": [
        {
          "output_type": "stream",
          "text": [
            "Found 7665 images belonging to 3 classes.\n",
            "Found 3285 images belonging to 3 classes.\n"
          ],
          "name": "stdout"
        }
      ]
    },
    {
      "cell_type": "markdown",
      "metadata": {
        "id": "4YIdbIze9KCv"
      },
      "source": [
        "Mobilenet pre-addestrata"
      ]
    },
    {
      "cell_type": "code",
      "metadata": {
        "id": "rAgJK6xlXtq4"
      },
      "source": [
        "K.clear_session()\n",
        "mobilenet = applications.MobileNet((224,224,3),include_top=False)\n",
        "cut = 'conv_dw_5_relu'\n",
        "mobilenet_pre_trained = Model(mobilenet.input, outputs = mobilenet.get_layer(cut).output)"
      ],
      "execution_count": 6,
      "outputs": []
    },
    {
      "cell_type": "markdown",
      "metadata": {
        "id": "NrrB4A589NdK"
      },
      "source": [
        "Limitazione nella rappresentazione dei float per evitare errori per OOM"
      ]
    },
    {
      "cell_type": "code",
      "metadata": {
        "id": "mT1Jv_v8gfww"
      },
      "source": [
        "K.set_floatx('float16')"
      ],
      "execution_count": 5,
      "outputs": []
    },
    {
      "cell_type": "markdown",
      "metadata": {
        "id": "Db-aWzu59Wdc"
      },
      "source": [
        "Estrazione output ultimo layer congelato"
      ]
    },
    {
      "cell_type": "code",
      "metadata": {
        "id": "Zd7enMADXxh5"
      },
      "source": [
        "# mescolo le obs di training\n",
        "train_obs = len(train_generator.filenames)\n",
        "shuffle_train = np.random.RandomState(seed = 42).permutation(train_obs)\n",
        "\n",
        "X_train = mobilenet_pre_trained.predict(train_generator)[shuffle_train]\n",
        "X_val = mobilenet_pre_trained.predict(valid_generator)"
      ],
      "execution_count": 7,
      "outputs": []
    },
    {
      "cell_type": "markdown",
      "metadata": {
        "id": "lmCl_txC9Z0f"
      },
      "source": [
        "Target labels"
      ]
    },
    {
      "cell_type": "code",
      "metadata": {
        "id": "JYpnwbBUXzq-"
      },
      "source": [
        "# output labels\n",
        "y_train = utils.to_categorical(np.reshape(train_generator.classes[shuffle_train], -1), 3)\n",
        "y_valid = utils.to_categorical(np.reshape(valid_generator.classes, -1), 3)"
      ],
      "execution_count": 8,
      "outputs": []
    },
    {
      "cell_type": "markdown",
      "metadata": {
        "id": "aWAMWyW6SdRP"
      },
      "source": [
        "Addestramento con optimizer adam"
      ]
    },
    {
      "cell_type": "code",
      "metadata": {
        "colab": {
          "base_uri": "https://localhost:8080/"
        },
        "id": "lJ_D9R0145ng",
        "outputId": "6c9dc726-80af-415b-cce3-095f367e0a86"
      },
      "source": [
        "base_model = build_model(\n",
        "    mobilenet,\n",
        "    cut = cut,\n",
        "    optimizer = 'adam'\n",
        "    )\n",
        "base_model.summary()"
      ],
      "execution_count": 9,
      "outputs": [
        {
          "output_type": "stream",
          "text": [
            "Model: \"model_1\"\n",
            "_________________________________________________________________\n",
            "Layer (type)                 Output Shape              Param #   \n",
            "=================================================================\n",
            "input_2 (InputLayer)         [(None, 28, 28, 256)]     0         \n",
            "_________________________________________________________________\n",
            "conv_pw_5 (Conv2D)           (None, 28, 28, 256)       65536     \n",
            "_________________________________________________________________\n",
            "conv_pw_5_bn (BatchNormaliza (None, 28, 28, 256)       1024      \n",
            "_________________________________________________________________\n",
            "conv_pw_5_relu (ReLU)        (None, 28, 28, 256)       0         \n",
            "_________________________________________________________________\n",
            "conv_pad_6 (ZeroPadding2D)   (None, 29, 29, 256)       0         \n",
            "_________________________________________________________________\n",
            "conv_dw_6 (DepthwiseConv2D)  (None, 14, 14, 256)       2304      \n",
            "_________________________________________________________________\n",
            "conv_dw_6_bn (BatchNormaliza (None, 14, 14, 256)       1024      \n",
            "_________________________________________________________________\n",
            "conv_dw_6_relu (ReLU)        (None, 14, 14, 256)       0         \n",
            "_________________________________________________________________\n",
            "conv_pw_6 (Conv2D)           (None, 14, 14, 512)       131072    \n",
            "_________________________________________________________________\n",
            "conv_pw_6_bn (BatchNormaliza (None, 14, 14, 512)       2048      \n",
            "_________________________________________________________________\n",
            "conv_pw_6_relu (ReLU)        (None, 14, 14, 512)       0         \n",
            "_________________________________________________________________\n",
            "conv_dw_7 (DepthwiseConv2D)  (None, 14, 14, 512)       4608      \n",
            "_________________________________________________________________\n",
            "conv_dw_7_bn (BatchNormaliza (None, 14, 14, 512)       2048      \n",
            "_________________________________________________________________\n",
            "conv_dw_7_relu (ReLU)        (None, 14, 14, 512)       0         \n",
            "_________________________________________________________________\n",
            "conv_pw_7 (Conv2D)           (None, 14, 14, 512)       262144    \n",
            "_________________________________________________________________\n",
            "conv_pw_7_bn (BatchNormaliza (None, 14, 14, 512)       2048      \n",
            "_________________________________________________________________\n",
            "conv_pw_7_relu (ReLU)        (None, 14, 14, 512)       0         \n",
            "_________________________________________________________________\n",
            "conv_dw_8 (DepthwiseConv2D)  (None, 14, 14, 512)       4608      \n",
            "_________________________________________________________________\n",
            "conv_dw_8_bn (BatchNormaliza (None, 14, 14, 512)       2048      \n",
            "_________________________________________________________________\n",
            "conv_dw_8_relu (ReLU)        (None, 14, 14, 512)       0         \n",
            "_________________________________________________________________\n",
            "conv_pw_8 (Conv2D)           (None, 14, 14, 512)       262144    \n",
            "_________________________________________________________________\n",
            "conv_pw_8_bn (BatchNormaliza (None, 14, 14, 512)       2048      \n",
            "_________________________________________________________________\n",
            "conv_pw_8_relu (ReLU)        (None, 14, 14, 512)       0         \n",
            "_________________________________________________________________\n",
            "conv_dw_9 (DepthwiseConv2D)  (None, 14, 14, 512)       4608      \n",
            "_________________________________________________________________\n",
            "conv_dw_9_bn (BatchNormaliza (None, 14, 14, 512)       2048      \n",
            "_________________________________________________________________\n",
            "conv_dw_9_relu (ReLU)        (None, 14, 14, 512)       0         \n",
            "_________________________________________________________________\n",
            "conv_pw_9 (Conv2D)           (None, 14, 14, 512)       262144    \n",
            "_________________________________________________________________\n",
            "conv_pw_9_bn (BatchNormaliza (None, 14, 14, 512)       2048      \n",
            "_________________________________________________________________\n",
            "conv_pw_9_relu (ReLU)        (None, 14, 14, 512)       0         \n",
            "_________________________________________________________________\n",
            "conv_dw_10 (DepthwiseConv2D) (None, 14, 14, 512)       4608      \n",
            "_________________________________________________________________\n",
            "conv_dw_10_bn (BatchNormaliz (None, 14, 14, 512)       2048      \n",
            "_________________________________________________________________\n",
            "conv_dw_10_relu (ReLU)       (None, 14, 14, 512)       0         \n",
            "_________________________________________________________________\n",
            "conv_pw_10 (Conv2D)          (None, 14, 14, 512)       262144    \n",
            "_________________________________________________________________\n",
            "conv_pw_10_bn (BatchNormaliz (None, 14, 14, 512)       2048      \n",
            "_________________________________________________________________\n",
            "conv_pw_10_relu (ReLU)       (None, 14, 14, 512)       0         \n",
            "_________________________________________________________________\n",
            "conv_dw_11 (DepthwiseConv2D) (None, 14, 14, 512)       4608      \n",
            "_________________________________________________________________\n",
            "conv_dw_11_bn (BatchNormaliz (None, 14, 14, 512)       2048      \n",
            "_________________________________________________________________\n",
            "conv_dw_11_relu (ReLU)       (None, 14, 14, 512)       0         \n",
            "_________________________________________________________________\n",
            "conv_pw_11 (Conv2D)          (None, 14, 14, 512)       262144    \n",
            "_________________________________________________________________\n",
            "conv_pw_11_bn (BatchNormaliz (None, 14, 14, 512)       2048      \n",
            "_________________________________________________________________\n",
            "conv_pw_11_relu (ReLU)       (None, 14, 14, 512)       0         \n",
            "_________________________________________________________________\n",
            "conv_pad_12 (ZeroPadding2D)  (None, 15, 15, 512)       0         \n",
            "_________________________________________________________________\n",
            "conv_dw_12 (DepthwiseConv2D) (None, 7, 7, 512)         4608      \n",
            "_________________________________________________________________\n",
            "conv_dw_12_bn (BatchNormaliz (None, 7, 7, 512)         2048      \n",
            "_________________________________________________________________\n",
            "conv_dw_12_relu (ReLU)       (None, 7, 7, 512)         0         \n",
            "_________________________________________________________________\n",
            "conv_pw_12 (Conv2D)          (None, 7, 7, 1024)        524288    \n",
            "_________________________________________________________________\n",
            "conv_pw_12_bn (BatchNormaliz (None, 7, 7, 1024)        4096      \n",
            "_________________________________________________________________\n",
            "conv_pw_12_relu (ReLU)       (None, 7, 7, 1024)        0         \n",
            "_________________________________________________________________\n",
            "conv_dw_13 (DepthwiseConv2D) (None, 7, 7, 1024)        9216      \n",
            "_________________________________________________________________\n",
            "conv_dw_13_bn (BatchNormaliz (None, 7, 7, 1024)        4096      \n",
            "_________________________________________________________________\n",
            "conv_dw_13_relu (ReLU)       (None, 7, 7, 1024)        0         \n",
            "_________________________________________________________________\n",
            "conv_pw_13 (Conv2D)          (None, 7, 7, 1024)        1048576   \n",
            "_________________________________________________________________\n",
            "conv_pw_13_bn (BatchNormaliz (None, 7, 7, 1024)        4096      \n",
            "_________________________________________________________________\n",
            "conv_pw_13_relu (ReLU)       (None, 7, 7, 1024)        0         \n",
            "_________________________________________________________________\n",
            "global_average_pooling2d (Gl (None, 1024)              0         \n",
            "_________________________________________________________________\n",
            "dropout (Dropout)            (None, 1024)              0         \n",
            "_________________________________________________________________\n",
            "dense (Dense)                (None, 3)                 3075      \n",
            "=================================================================\n",
            "Total params: 3,161,347\n",
            "Trainable params: 3,141,891\n",
            "Non-trainable params: 19,456\n",
            "_________________________________________________________________\n"
          ],
          "name": "stdout"
        }
      ]
    },
    {
      "cell_type": "code",
      "metadata": {
        "colab": {
          "base_uri": "https://localhost:8080/"
        },
        "id": "2p4oI5ww5FO5",
        "outputId": "964e6db7-d8f1-4e3e-a570-4680993af27e"
      },
      "source": [
        "base_model.fit(\n",
        "    X_train, y_train,\n",
        "    validation_data=(X_val, y_valid),\n",
        "    epochs = 20,\n",
        "    batch_size = 32,\n",
        "    callbacks = [callbacks.ModelCheckpoint(\n",
        "        filepath = 'ckp_',\n",
        "        monitor = \"val_accuracy\",\n",
        "        verbose = 0,\n",
        "        save_best_only = True,\n",
        "        save_weights_only = False\n",
        "        )]\n",
        "    )"
      ],
      "execution_count": 10,
      "outputs": [
        {
          "output_type": "stream",
          "text": [
            "Epoch 1/20\n",
            "240/240 [==============================] - 37s 132ms/step - loss: 0.5143 - accuracy: 0.8761 - val_loss: 17.2812 - val_accuracy: 0.4607\n",
            "INFO:tensorflow:Assets written to: ckp_/assets\n",
            "Epoch 2/20\n",
            "240/240 [==============================] - 26s 109ms/step - loss: 0.1504 - accuracy: 0.9500 - val_loss: 1.4082 - val_accuracy: 0.7930\n",
            "INFO:tensorflow:Assets written to: ckp_/assets\n",
            "Epoch 3/20\n",
            "240/240 [==============================] - 26s 109ms/step - loss: 0.1103 - accuracy: 0.9657 - val_loss: 0.9536 - val_accuracy: 0.7739\n",
            "Epoch 4/20\n",
            "240/240 [==============================] - 26s 109ms/step - loss: 0.1095 - accuracy: 0.9678 - val_loss: 5.4922 - val_accuracy: 0.7441\n",
            "Epoch 5/20\n",
            "240/240 [==============================] - 26s 109ms/step - loss: 0.0813 - accuracy: 0.9708 - val_loss: 3.9512 - val_accuracy: 0.7529\n",
            "Epoch 6/20\n",
            "240/240 [==============================] - 26s 109ms/step - loss: 0.0699 - accuracy: 0.9831 - val_loss: 1.3340 - val_accuracy: 0.8062\n",
            "INFO:tensorflow:Assets written to: ckp_/assets\n",
            "Epoch 7/20\n",
            "240/240 [==============================] - 26s 109ms/step - loss: 0.0998 - accuracy: 0.9724 - val_loss: 4.4805 - val_accuracy: 0.5044\n",
            "Epoch 8/20\n",
            "240/240 [==============================] - 26s 109ms/step - loss: 0.0530 - accuracy: 0.9867 - val_loss: 3.2539 - val_accuracy: 0.6978\n",
            "Epoch 9/20\n",
            "240/240 [==============================] - 26s 108ms/step - loss: 0.0392 - accuracy: 0.9911 - val_loss: 6.2891 - val_accuracy: 0.6108\n",
            "Epoch 10/20\n",
            "240/240 [==============================] - 26s 108ms/step - loss: 0.0568 - accuracy: 0.9838 - val_loss: 0.8838 - val_accuracy: 0.8423\n",
            "INFO:tensorflow:Assets written to: ckp_/assets\n",
            "Epoch 11/20\n",
            "240/240 [==============================] - 26s 109ms/step - loss: 0.0420 - accuracy: 0.9878 - val_loss: 5.0312 - val_accuracy: 0.7886\n",
            "Epoch 12/20\n",
            "240/240 [==============================] - 26s 108ms/step - loss: 0.0279 - accuracy: 0.9934 - val_loss: 1.2002 - val_accuracy: 0.8135\n",
            "Epoch 13/20\n",
            "240/240 [==============================] - 26s 109ms/step - loss: 0.0287 - accuracy: 0.9928 - val_loss: 2.5449 - val_accuracy: 0.7368\n",
            "Epoch 14/20\n",
            "240/240 [==============================] - 26s 109ms/step - loss: 0.0313 - accuracy: 0.9922 - val_loss: 5.6562 - val_accuracy: 0.6665\n",
            "Epoch 15/20\n",
            "240/240 [==============================] - 26s 108ms/step - loss: 0.0326 - accuracy: 0.9926 - val_loss: 1.0381 - val_accuracy: 0.8550\n",
            "INFO:tensorflow:Assets written to: ckp_/assets\n",
            "Epoch 16/20\n",
            "240/240 [==============================] - 26s 109ms/step - loss: 0.0275 - accuracy: 0.9933 - val_loss: 4.9922 - val_accuracy: 0.7578\n",
            "Epoch 17/20\n",
            "240/240 [==============================] - 26s 108ms/step - loss: 0.0262 - accuracy: 0.9934 - val_loss: 10.2031 - val_accuracy: 0.5840\n",
            "Epoch 18/20\n",
            "240/240 [==============================] - 26s 108ms/step - loss: 0.0510 - accuracy: 0.9860 - val_loss: 5.2539 - val_accuracy: 0.7192\n",
            "Epoch 19/20\n",
            "240/240 [==============================] - 26s 108ms/step - loss: 0.0346 - accuracy: 0.9908 - val_loss: 3.0059 - val_accuracy: 0.8174\n",
            "Epoch 20/20\n",
            "240/240 [==============================] - 26s 108ms/step - loss: 0.0848 - accuracy: 0.9825 - val_loss: 6.9414 - val_accuracy: 0.6118\n"
          ],
          "name": "stdout"
        },
        {
          "output_type": "execute_result",
          "data": {
            "text/plain": [
              "<tensorflow.python.keras.callbacks.History at 0x7fda576f3940>"
            ]
          },
          "metadata": {
            "tags": []
          },
          "execution_count": 10
        }
      ]
    },
    {
      "cell_type": "code",
      "metadata": {
        "colab": {
          "base_uri": "https://localhost:8080/",
          "height": 35
        },
        "id": "m4Ol_pG6S3vY",
        "outputId": "395745ce-215f-47ea-e248-da87a6a33533"
      },
      "source": [
        "# memorizzazione checkpoints\n",
        "shutil.make_archive('ckp_adam', 'zip', 'ckp_adam')\n",
        "shutil.copyfile('ckp_adam.zip', '/content/drive/MyDrive/DSIM/image_classification/ckp_adam.zip')"
      ],
      "execution_count": 17,
      "outputs": [
        {
          "output_type": "execute_result",
          "data": {
            "application/vnd.google.colaboratory.intrinsic+json": {
              "type": "string"
            },
            "text/plain": [
              "'/content/drive/MyDrive/DSIM/image_classification/ckp_adam.zip'"
            ]
          },
          "metadata": {
            "tags": []
          },
          "execution_count": 17
        }
      ]
    },
    {
      "cell_type": "markdown",
      "metadata": {
        "id": "ADDB66C6SlSo"
      },
      "source": [
        "Addestramento con optimizer AdaMax"
      ]
    },
    {
      "cell_type": "code",
      "metadata": {
        "colab": {
          "base_uri": "https://localhost:8080/"
        },
        "id": "WQlZ9hII6CxC",
        "outputId": "c283e440-b7c7-405c-ea85-78c53c3e8fe9"
      },
      "source": [
        "base_model_adamax = build_model(\n",
        "    mobilenet,\n",
        "    cut = cut,\n",
        "    optimizer = 'adamax'\n",
        "    )\n",
        "base_model_adamax.summary()"
      ],
      "execution_count": 14,
      "outputs": [
        {
          "output_type": "stream",
          "text": [
            "Model: \"model_4\"\n",
            "_________________________________________________________________\n",
            "Layer (type)                 Output Shape              Param #   \n",
            "=================================================================\n",
            "input_5 (InputLayer)         [(None, 28, 28, 256)]     0         \n",
            "_________________________________________________________________\n",
            "conv_pw_5 (Conv2D)           (None, 28, 28, 256)       65536     \n",
            "_________________________________________________________________\n",
            "conv_pw_5_bn (BatchNormaliza (None, 28, 28, 256)       1024      \n",
            "_________________________________________________________________\n",
            "conv_pw_5_relu (ReLU)        (None, 28, 28, 256)       0         \n",
            "_________________________________________________________________\n",
            "conv_pad_6 (ZeroPadding2D)   (None, 29, 29, 256)       0         \n",
            "_________________________________________________________________\n",
            "conv_dw_6 (DepthwiseConv2D)  (None, 14, 14, 256)       2304      \n",
            "_________________________________________________________________\n",
            "conv_dw_6_bn (BatchNormaliza (None, 14, 14, 256)       1024      \n",
            "_________________________________________________________________\n",
            "conv_dw_6_relu (ReLU)        (None, 14, 14, 256)       0         \n",
            "_________________________________________________________________\n",
            "conv_pw_6 (Conv2D)           (None, 14, 14, 512)       131072    \n",
            "_________________________________________________________________\n",
            "conv_pw_6_bn (BatchNormaliza (None, 14, 14, 512)       2048      \n",
            "_________________________________________________________________\n",
            "conv_pw_6_relu (ReLU)        (None, 14, 14, 512)       0         \n",
            "_________________________________________________________________\n",
            "conv_dw_7 (DepthwiseConv2D)  (None, 14, 14, 512)       4608      \n",
            "_________________________________________________________________\n",
            "conv_dw_7_bn (BatchNormaliza (None, 14, 14, 512)       2048      \n",
            "_________________________________________________________________\n",
            "conv_dw_7_relu (ReLU)        (None, 14, 14, 512)       0         \n",
            "_________________________________________________________________\n",
            "conv_pw_7 (Conv2D)           (None, 14, 14, 512)       262144    \n",
            "_________________________________________________________________\n",
            "conv_pw_7_bn (BatchNormaliza (None, 14, 14, 512)       2048      \n",
            "_________________________________________________________________\n",
            "conv_pw_7_relu (ReLU)        (None, 14, 14, 512)       0         \n",
            "_________________________________________________________________\n",
            "conv_dw_8 (DepthwiseConv2D)  (None, 14, 14, 512)       4608      \n",
            "_________________________________________________________________\n",
            "conv_dw_8_bn (BatchNormaliza (None, 14, 14, 512)       2048      \n",
            "_________________________________________________________________\n",
            "conv_dw_8_relu (ReLU)        (None, 14, 14, 512)       0         \n",
            "_________________________________________________________________\n",
            "conv_pw_8 (Conv2D)           (None, 14, 14, 512)       262144    \n",
            "_________________________________________________________________\n",
            "conv_pw_8_bn (BatchNormaliza (None, 14, 14, 512)       2048      \n",
            "_________________________________________________________________\n",
            "conv_pw_8_relu (ReLU)        (None, 14, 14, 512)       0         \n",
            "_________________________________________________________________\n",
            "conv_dw_9 (DepthwiseConv2D)  (None, 14, 14, 512)       4608      \n",
            "_________________________________________________________________\n",
            "conv_dw_9_bn (BatchNormaliza (None, 14, 14, 512)       2048      \n",
            "_________________________________________________________________\n",
            "conv_dw_9_relu (ReLU)        (None, 14, 14, 512)       0         \n",
            "_________________________________________________________________\n",
            "conv_pw_9 (Conv2D)           (None, 14, 14, 512)       262144    \n",
            "_________________________________________________________________\n",
            "conv_pw_9_bn (BatchNormaliza (None, 14, 14, 512)       2048      \n",
            "_________________________________________________________________\n",
            "conv_pw_9_relu (ReLU)        (None, 14, 14, 512)       0         \n",
            "_________________________________________________________________\n",
            "conv_dw_10 (DepthwiseConv2D) (None, 14, 14, 512)       4608      \n",
            "_________________________________________________________________\n",
            "conv_dw_10_bn (BatchNormaliz (None, 14, 14, 512)       2048      \n",
            "_________________________________________________________________\n",
            "conv_dw_10_relu (ReLU)       (None, 14, 14, 512)       0         \n",
            "_________________________________________________________________\n",
            "conv_pw_10 (Conv2D)          (None, 14, 14, 512)       262144    \n",
            "_________________________________________________________________\n",
            "conv_pw_10_bn (BatchNormaliz (None, 14, 14, 512)       2048      \n",
            "_________________________________________________________________\n",
            "conv_pw_10_relu (ReLU)       (None, 14, 14, 512)       0         \n",
            "_________________________________________________________________\n",
            "conv_dw_11 (DepthwiseConv2D) (None, 14, 14, 512)       4608      \n",
            "_________________________________________________________________\n",
            "conv_dw_11_bn (BatchNormaliz (None, 14, 14, 512)       2048      \n",
            "_________________________________________________________________\n",
            "conv_dw_11_relu (ReLU)       (None, 14, 14, 512)       0         \n",
            "_________________________________________________________________\n",
            "conv_pw_11 (Conv2D)          (None, 14, 14, 512)       262144    \n",
            "_________________________________________________________________\n",
            "conv_pw_11_bn (BatchNormaliz (None, 14, 14, 512)       2048      \n",
            "_________________________________________________________________\n",
            "conv_pw_11_relu (ReLU)       (None, 14, 14, 512)       0         \n",
            "_________________________________________________________________\n",
            "conv_pad_12 (ZeroPadding2D)  (None, 15, 15, 512)       0         \n",
            "_________________________________________________________________\n",
            "conv_dw_12 (DepthwiseConv2D) (None, 7, 7, 512)         4608      \n",
            "_________________________________________________________________\n",
            "conv_dw_12_bn (BatchNormaliz (None, 7, 7, 512)         2048      \n",
            "_________________________________________________________________\n",
            "conv_dw_12_relu (ReLU)       (None, 7, 7, 512)         0         \n",
            "_________________________________________________________________\n",
            "conv_pw_12 (Conv2D)          (None, 7, 7, 1024)        524288    \n",
            "_________________________________________________________________\n",
            "conv_pw_12_bn (BatchNormaliz (None, 7, 7, 1024)        4096      \n",
            "_________________________________________________________________\n",
            "conv_pw_12_relu (ReLU)       (None, 7, 7, 1024)        0         \n",
            "_________________________________________________________________\n",
            "conv_dw_13 (DepthwiseConv2D) (None, 7, 7, 1024)        9216      \n",
            "_________________________________________________________________\n",
            "conv_dw_13_bn (BatchNormaliz (None, 7, 7, 1024)        4096      \n",
            "_________________________________________________________________\n",
            "conv_dw_13_relu (ReLU)       (None, 7, 7, 1024)        0         \n",
            "_________________________________________________________________\n",
            "conv_pw_13 (Conv2D)          (None, 7, 7, 1024)        1048576   \n",
            "_________________________________________________________________\n",
            "conv_pw_13_bn (BatchNormaliz (None, 7, 7, 1024)        4096      \n",
            "_________________________________________________________________\n",
            "conv_pw_13_relu (ReLU)       (None, 7, 7, 1024)        0         \n",
            "_________________________________________________________________\n",
            "global_average_pooling2d_3 ( (None, 1024)              0         \n",
            "_________________________________________________________________\n",
            "dropout_3 (Dropout)          (None, 1024)              0         \n",
            "_________________________________________________________________\n",
            "dense_3 (Dense)              (None, 3)                 3075      \n",
            "=================================================================\n",
            "Total params: 3,161,347\n",
            "Trainable params: 3,141,891\n",
            "Non-trainable params: 19,456\n",
            "_________________________________________________________________\n"
          ],
          "name": "stdout"
        }
      ]
    },
    {
      "cell_type": "code",
      "metadata": {
        "colab": {
          "base_uri": "https://localhost:8080/"
        },
        "id": "pyLlg9h_6Gn7",
        "outputId": "84c449f7-2058-4f01-a449-7ffdb32b759c"
      },
      "source": [
        "base_model_adamax.fit(\n",
        "    X_train, y_train,\n",
        "    validation_data=(X_val, y_valid),\n",
        "    epochs = 20,\n",
        "    batch_size = 32,\n",
        "    callbacks = [callbacks.ModelCheckpoint(\n",
        "        filepath = 'ckp_adamax',\n",
        "        monitor = \"val_accuracy\",\n",
        "        verbose = 0,\n",
        "        save_best_only = True,\n",
        "        save_weights_only = False\n",
        "        )]\n",
        "    )"
      ],
      "execution_count": 15,
      "outputs": [
        {
          "output_type": "stream",
          "text": [
            "Epoch 1/20\n",
            "240/240 [==============================] - 29s 112ms/step - loss: 0.2501 - accuracy: 0.9190 - val_loss: 0.6997 - val_accuracy: 0.8320\n",
            "INFO:tensorflow:Assets written to: ckp_adamax/assets\n",
            "Epoch 2/20\n",
            "240/240 [==============================] - 26s 109ms/step - loss: 0.0457 - accuracy: 0.9913 - val_loss: 0.7666 - val_accuracy: 0.8306\n",
            "Epoch 3/20\n",
            "240/240 [==============================] - 26s 108ms/step - loss: 0.0357 - accuracy: 0.9928 - val_loss: 0.9019 - val_accuracy: 0.8296\n",
            "Epoch 4/20\n",
            "240/240 [==============================] - 26s 108ms/step - loss: 0.0331 - accuracy: 0.9903 - val_loss: 1.0889 - val_accuracy: 0.8198\n",
            "Epoch 5/20\n",
            "240/240 [==============================] - 26s 109ms/step - loss: 0.0351 - accuracy: 0.9906 - val_loss: 1.0508 - val_accuracy: 0.8208\n",
            "Epoch 6/20\n",
            "240/240 [==============================] - 26s 108ms/step - loss: 0.0343 - accuracy: 0.9912 - val_loss: 0.8848 - val_accuracy: 0.8354\n",
            "INFO:tensorflow:Assets written to: ckp_adamax/assets\n",
            "Epoch 7/20\n",
            "240/240 [==============================] - 26s 108ms/step - loss: 0.0248 - accuracy: 0.9935 - val_loss: 0.9731 - val_accuracy: 0.8330\n",
            "Epoch 8/20\n",
            "240/240 [==============================] - 26s 108ms/step - loss: 0.0258 - accuracy: 0.9922 - val_loss: 1.0879 - val_accuracy: 0.8257\n",
            "Epoch 9/20\n",
            "240/240 [==============================] - 26s 108ms/step - loss: 0.0261 - accuracy: 0.9913 - val_loss: 1.0527 - val_accuracy: 0.8281\n",
            "Epoch 10/20\n",
            "240/240 [==============================] - 26s 108ms/step - loss: 0.0314 - accuracy: 0.9910 - val_loss: 0.9634 - val_accuracy: 0.8345\n",
            "Epoch 11/20\n",
            "240/240 [==============================] - 26s 108ms/step - loss: 0.0279 - accuracy: 0.9930 - val_loss: 0.9604 - val_accuracy: 0.8379\n",
            "INFO:tensorflow:Assets written to: ckp_adamax/assets\n",
            "Epoch 12/20\n",
            "240/240 [==============================] - 26s 109ms/step - loss: 0.0241 - accuracy: 0.9936 - val_loss: 0.9639 - val_accuracy: 0.8379\n",
            "Epoch 13/20\n",
            "240/240 [==============================] - 26s 108ms/step - loss: 0.0229 - accuracy: 0.9947 - val_loss: 1.1094 - val_accuracy: 0.8320\n",
            "Epoch 14/20\n",
            "240/240 [==============================] - 26s 108ms/step - loss: 0.0191 - accuracy: 0.9950 - val_loss: 1.1699 - val_accuracy: 0.8271\n",
            "Epoch 15/20\n",
            "240/240 [==============================] - 26s 109ms/step - loss: 0.0229 - accuracy: 0.9943 - val_loss: 1.0498 - val_accuracy: 0.8394\n",
            "INFO:tensorflow:Assets written to: ckp_adamax/assets\n",
            "Epoch 16/20\n",
            "240/240 [==============================] - 26s 109ms/step - loss: 0.0156 - accuracy: 0.9966 - val_loss: 1.1406 - val_accuracy: 0.8320\n",
            "Epoch 17/20\n",
            "240/240 [==============================] - 26s 108ms/step - loss: 0.0162 - accuracy: 0.9956 - val_loss: 1.3809 - val_accuracy: 0.8198\n",
            "Epoch 18/20\n",
            "240/240 [==============================] - 26s 108ms/step - loss: 0.0135 - accuracy: 0.9978 - val_loss: 0.9590 - val_accuracy: 0.8442\n",
            "INFO:tensorflow:Assets written to: ckp_adamax/assets\n",
            "Epoch 19/20\n",
            "240/240 [==============================] - 26s 109ms/step - loss: 0.0163 - accuracy: 0.9975 - val_loss: 1.1357 - val_accuracy: 0.8369\n",
            "Epoch 20/20\n",
            "240/240 [==============================] - 26s 108ms/step - loss: 0.0191 - accuracy: 0.9955 - val_loss: 1.3252 - val_accuracy: 0.8232\n"
          ],
          "name": "stdout"
        },
        {
          "output_type": "execute_result",
          "data": {
            "text/plain": [
              "<tensorflow.python.keras.callbacks.History at 0x7fd9fcd5dfd0>"
            ]
          },
          "metadata": {
            "tags": []
          },
          "execution_count": 15
        }
      ]
    },
    {
      "cell_type": "code",
      "metadata": {
        "colab": {
          "base_uri": "https://localhost:8080/",
          "height": 35
        },
        "id": "rU47J99DTRF4",
        "outputId": "8357167c-aed5-46e0-fbc0-e53707ed75b6"
      },
      "source": [
        "# memorizzazione checkpoints\n",
        "shutil.make_archive('ckp_adamax', 'zip', 'ckp_adamax')\n",
        "shutil.copyfile('ckp_adamax.zip', '/content/drive/MyDrive/DSIM/image_classification/ckp_adamax.zip')"
      ],
      "execution_count": 19,
      "outputs": [
        {
          "output_type": "execute_result",
          "data": {
            "application/vnd.google.colaboratory.intrinsic+json": {
              "type": "string"
            },
            "text/plain": [
              "'/content/drive/MyDrive/DSIM/image_classification/ckp_adamax.zip'"
            ]
          },
          "metadata": {
            "tags": []
          },
          "execution_count": 19
        }
      ]
    },
    {
      "cell_type": "markdown",
      "metadata": {
        "id": "J3ziC-QwSpez"
      },
      "source": [
        "Le performance sembrano essere meno soddisfacenti della CNN addestrata sul dataset originale"
      ]
    }
  ]
}